{
 "cells": [
  {
   "cell_type": "markdown",
   "id": "d40bd453",
   "metadata": {},
   "source": [
    "<div style=\"background-color: lightgreen; padding: 18px;\">\n",
    "    <h1> Coding Tank | \n",
    "</div>"
   ]
  },
  {
   "cell_type": "markdown",
   "id": "7c943d1a",
   "metadata": {},
   "source": [
    "<div style=\"background-color: lightblue; padding: 10px;\">\n",
    "    <h2> Tópicos da aula - AULA 1\n",
    "</div>\n",
    "\n",
    "- Variáveis\n",
    "- Tipos básicos\n",
    "- Entradas/Saídas\n",
    "- Operadores aritméticos, atribuição e comparação"
   ]
  },
  {
   "cell_type": "code",
   "execution_count": 12,
   "id": "de2d8b37",
   "metadata": {},
   "outputs": [
    {
     "data": {
      "text/plain": [
       "4"
      ]
     },
     "execution_count": 12,
     "metadata": {},
     "output_type": "execute_result"
    }
   ],
   "source": [
    "4"
   ]
  },
  {
   "cell_type": "code",
   "execution_count": 11,
   "id": "6b124b5b",
   "metadata": {},
   "outputs": [
    {
     "data": {
      "text/plain": [
       "7"
      ]
     },
     "execution_count": 11,
     "metadata": {},
     "output_type": "execute_result"
    }
   ],
   "source": [
    "#Adição\n",
    "3 + 4"
   ]
  },
  {
   "cell_type": "code",
   "execution_count": 13,
   "id": "29ccf81c",
   "metadata": {},
   "outputs": [
    {
     "data": {
      "text/plain": [
       "-1"
      ]
     },
     "execution_count": 13,
     "metadata": {},
     "output_type": "execute_result"
    }
   ],
   "source": [
    "#Subtração\n",
    "3 - 4"
   ]
  },
  {
   "cell_type": "code",
   "execution_count": 14,
   "id": "03eb8841",
   "metadata": {},
   "outputs": [
    {
     "data": {
      "text/plain": [
       "12"
      ]
     },
     "execution_count": 14,
     "metadata": {},
     "output_type": "execute_result"
    }
   ],
   "source": [
    "#Multiplicação\n",
    "3 * 4"
   ]
  },
  {
   "cell_type": "code",
   "execution_count": 15,
   "id": "28330061",
   "metadata": {},
   "outputs": [
    {
     "data": {
      "text/plain": [
       "0.75"
      ]
     },
     "execution_count": 15,
     "metadata": {},
     "output_type": "execute_result"
    }
   ],
   "source": [
    "#Divisão\n",
    "3 / 4"
   ]
  },
  {
   "cell_type": "code",
   "execution_count": 16,
   "id": "a9f094ec",
   "metadata": {},
   "outputs": [
    {
     "data": {
      "text/plain": [
       "0"
      ]
     },
     "execution_count": 16,
     "metadata": {},
     "output_type": "execute_result"
    }
   ],
   "source": [
    "#Divisão inteira\n",
    "3 // 4"
   ]
  },
  {
   "cell_type": "code",
   "execution_count": 17,
   "id": "48f14ace",
   "metadata": {},
   "outputs": [
    {
     "data": {
      "text/plain": [
       "3"
      ]
     },
     "execution_count": 17,
     "metadata": {},
     "output_type": "execute_result"
    }
   ],
   "source": [
    "#Resto da divisão (módulo)\n",
    "3 % 4"
   ]
  },
  {
   "cell_type": "code",
   "execution_count": 18,
   "id": "d95636d6",
   "metadata": {},
   "outputs": [
    {
     "data": {
      "text/plain": [
       "81"
      ]
     },
     "execution_count": 18,
     "metadata": {},
     "output_type": "execute_result"
    }
   ],
   "source": [
    "#Potenciação\n",
    "3 ** 4"
   ]
  },
  {
   "cell_type": "code",
   "execution_count": 20,
   "id": "6c65fac0",
   "metadata": {},
   "outputs": [
    {
     "data": {
      "text/plain": [
       "4.0"
      ]
     },
     "execution_count": 20,
     "metadata": {},
     "output_type": "execute_result"
    }
   ],
   "source": [
    "#Radiciação utilizando o operador **\n",
    "16 ** (1/2)"
   ]
  },
  {
   "cell_type": "markdown",
   "id": "29a6b160",
   "metadata": {},
   "source": [
    "**Operadores Aritméticos**\n",
    "\n",
    "|     Operador    |     Nome                 |     Função                                                                       |\n",
    "|-----------------|--------------------------|----------------------------------------------------------------------------------|\n",
    "|     +           |     Adição               |     Realiza   a soma de ambos operandos.                                         |\n",
    "|     -           |     Subtração            |     Realiza   a subtração de ambos operandos.                                    |\n",
    "|     *           |     Multiplicação        |     Realiza   a multiplicação de ambos operandos.                                |\n",
    "|     /           |     Divisão              |     Realiza   a Divisão de ambos operandos.                                      |\n",
    "|     //          |     Divisão   inteira    |     Realiza   a divisão entre operandos e a parte decimal de ambos operandos.    |\n",
    "|     %           |     Módulo               |     Retorna   o resto da divisão de ambos operandos.                             |\n",
    "|     **          |     Exponenciação        |     Retorna   o resultado da elevação da potência pelo outro.                    |"
   ]
  },
  {
   "cell_type": "markdown",
   "id": "04f9b06e",
   "metadata": {},
   "source": [
    "#### Variáveis"
   ]
  },
  {
   "cell_type": "code",
   "execution_count": 28,
   "id": "ade71c36",
   "metadata": {},
   "outputs": [
    {
     "data": {
      "text/plain": [
       "(77, 23)"
      ]
     },
     "execution_count": 28,
     "metadata": {},
     "output_type": "execute_result"
    }
   ],
   "source": [
    "# Atribuição de valores -->  =\n",
    "a = 23 # criando/definindo uma variável\n",
    "b = 23 # criando/definindo uma variável\n",
    "a = 77 # modificando uma variável\n",
    "\n",
    "a, b"
   ]
  },
  {
   "cell_type": "code",
   "execution_count": 29,
   "id": "29514320",
   "metadata": {},
   "outputs": [
    {
     "ename": "NameError",
     "evalue": "name 'w' is not defined",
     "output_type": "error",
     "traceback": [
      "\u001b[1;31m---------------------------------------------------------------------------\u001b[0m",
      "\u001b[1;31mNameError\u001b[0m                                 Traceback (most recent call last)",
      "Cell \u001b[1;32mIn[29], line 2\u001b[0m\n\u001b[0;32m      1\u001b[0m \u001b[38;5;66;03m#Quando a variável não foi definida --> erro\u001b[39;00m\n\u001b[1;32m----> 2\u001b[0m \u001b[43mw\u001b[49m\n",
      "\u001b[1;31mNameError\u001b[0m: name 'w' is not defined"
     ]
    }
   ],
   "source": [
    "#Quando a variável não foi definida --> erro\n",
    "w"
   ]
  },
  {
   "cell_type": "code",
   "execution_count": 31,
   "id": "e40266f5",
   "metadata": {},
   "outputs": [
    {
     "data": {
      "text/plain": [
       "int"
      ]
     },
     "execution_count": 31,
     "metadata": {},
     "output_type": "execute_result"
    }
   ],
   "source": [
    "#Verificando o tipo de variável --> type()\n",
    "numero = 123\n",
    "\n",
    "type(numero)\n"
   ]
  },
  {
   "cell_type": "code",
   "execution_count": null,
   "id": "82d41d35",
   "metadata": {},
   "outputs": [],
   "source": [
    "#Tipos de variáveis\n",
    "int --> inteiro\n",
    "float --> números reais (com decimais)\n",
    "string --> textos\n",
    "bool --> valores lógicos (True/Verdadeiro  False/Falso)"
   ]
  },
  {
   "cell_type": "code",
   "execution_count": 32,
   "id": "a1c71c7e",
   "metadata": {},
   "outputs": [],
   "source": [
    "inteiro = 12\n",
    "real = 3.14\n",
    "texto = 'Meu Santos caiu'\n",
    "sentinela = True"
   ]
  },
  {
   "cell_type": "code",
   "execution_count": 36,
   "id": "9c16e46a",
   "metadata": {},
   "outputs": [
    {
     "data": {
      "text/plain": [
       "(int, float, str, bool)"
      ]
     },
     "execution_count": 36,
     "metadata": {},
     "output_type": "execute_result"
    }
   ],
   "source": [
    "type(inteiro), type(real), type(texto), type(sentinela)"
   ]
  },
  {
   "cell_type": "code",
   "execution_count": 39,
   "id": "f6509e5c",
   "metadata": {},
   "outputs": [
    {
     "ename": "TypeError",
     "evalue": "type() takes 1 or 3 arguments",
     "output_type": "error",
     "traceback": [
      "\u001b[1;31m---------------------------------------------------------------------------\u001b[0m",
      "\u001b[1;31mTypeError\u001b[0m                                 Traceback (most recent call last)",
      "Cell \u001b[1;32mIn[39], line 1\u001b[0m\n\u001b[1;32m----> 1\u001b[0m \u001b[38;5;28;43mtype\u001b[39;49m\u001b[43m(\u001b[49m\u001b[43minteiro\u001b[49m\u001b[43m,\u001b[49m\u001b[43m \u001b[49m\u001b[43mreal\u001b[49m\u001b[43m)\u001b[49m\n",
      "\u001b[1;31mTypeError\u001b[0m: type() takes 1 or 3 arguments"
     ]
    }
   ],
   "source": [
    "#type aceita apenas uma única variável\n",
    "type(inteiro, real)"
   ]
  },
  {
   "cell_type": "code",
   "execution_count": 43,
   "id": "a550e0c0",
   "metadata": {},
   "outputs": [
    {
     "data": {
      "text/plain": [
       "int"
      ]
     },
     "execution_count": 43,
     "metadata": {},
     "output_type": "execute_result"
    }
   ],
   "source": [
    "#Mudando o tipo de uma variável\n",
    "fator = 99\n",
    "type(fator)"
   ]
  },
  {
   "cell_type": "code",
   "execution_count": 44,
   "id": "9a498905",
   "metadata": {
    "scrolled": true
   },
   "outputs": [
    {
     "data": {
      "text/plain": [
       "str"
      ]
     },
     "execution_count": 44,
     "metadata": {},
     "output_type": "execute_result"
    }
   ],
   "source": [
    "fator = '99'\n",
    "type(fator)"
   ]
  },
  {
   "cell_type": "code",
   "execution_count": 46,
   "id": "bcd6fea2",
   "metadata": {},
   "outputs": [
    {
     "data": {
      "text/plain": [
       "'duplas'"
      ]
     },
     "execution_count": 46,
     "metadata": {},
     "output_type": "execute_result"
    }
   ],
   "source": [
    "#aspas duplas ou simples\n",
    "fator = \"duplas\"\n",
    "fator"
   ]
  },
  {
   "cell_type": "code",
   "execution_count": 47,
   "id": "79539438",
   "metadata": {},
   "outputs": [
    {
     "data": {
      "text/plain": [
       "'simples'"
      ]
     },
     "execution_count": 47,
     "metadata": {},
     "output_type": "execute_result"
    }
   ],
   "source": [
    "fator = 'simples'\n",
    "fator"
   ]
  },
  {
   "cell_type": "code",
   "execution_count": 51,
   "id": "6c3fd138",
   "metadata": {},
   "outputs": [
    {
     "data": {
      "text/plain": [
       "(99, int)"
      ]
     },
     "execution_count": 51,
     "metadata": {},
     "output_type": "execute_result"
    }
   ],
   "source": [
    "#Coerção de tipos (casting) --> transformando um tipo em outro\n",
    "num = '99'\n",
    "num2 = int(num)\n",
    "\n",
    "num2, type(num2)\n"
   ]
  },
  {
   "cell_type": "code",
   "execution_count": 52,
   "id": "1a95620f",
   "metadata": {
    "scrolled": true
   },
   "outputs": [
    {
     "ename": "ValueError",
     "evalue": "invalid literal for int() with base 10: '34.5'",
     "output_type": "error",
     "traceback": [
      "\u001b[1;31m---------------------------------------------------------------------------\u001b[0m",
      "\u001b[1;31mValueError\u001b[0m                                Traceback (most recent call last)",
      "Cell \u001b[1;32mIn[52], line 2\u001b[0m\n\u001b[0;32m      1\u001b[0m num3 \u001b[38;5;241m=\u001b[39m \u001b[38;5;124m'\u001b[39m\u001b[38;5;124m34.5\u001b[39m\u001b[38;5;124m'\u001b[39m\n\u001b[1;32m----> 2\u001b[0m num \u001b[38;5;241m=\u001b[39m \u001b[38;5;28;43mint\u001b[39;49m\u001b[43m(\u001b[49m\u001b[43mnum3\u001b[49m\u001b[43m)\u001b[49m\n",
      "\u001b[1;31mValueError\u001b[0m: invalid literal for int() with base 10: '34.5'"
     ]
    }
   ],
   "source": [
    "#Tentando converter um não-inteiro para inteiro\n",
    "num3 = '34.5'\n",
    "num = int(num3)\n"
   ]
  },
  {
   "cell_type": "code",
   "execution_count": null,
   "id": "0b7ae5ad",
   "metadata": {},
   "outputs": [],
   "source": [
    "#Entrada de dados: input()"
   ]
  },
  {
   "cell_type": "code",
   "execution_count": 54,
   "id": "e7cf6a6b",
   "metadata": {},
   "outputs": [
    {
     "name": "stdout",
     "output_type": "stream",
     "text": [
      "Digite o seu nome: Paulo\n"
     ]
    }
   ],
   "source": [
    "nome = input('Digite o seu nome: ')"
   ]
  },
  {
   "cell_type": "code",
   "execution_count": 66,
   "id": "70f3eafd",
   "metadata": {},
   "outputs": [
    {
     "name": "stdout",
     "output_type": "stream",
     "text": [
      "Digite a sua idade: 23\n"
     ]
    },
    {
     "data": {
      "text/plain": [
       "str"
      ]
     },
     "execution_count": 66,
     "metadata": {},
     "output_type": "execute_result"
    }
   ],
   "source": [
    "idade = input('Digite a sua idade: ')\n",
    "type(idade)"
   ]
  },
  {
   "cell_type": "code",
   "execution_count": 59,
   "id": "17dad06f",
   "metadata": {},
   "outputs": [
    {
     "data": {
      "text/plain": [
       "'O Paulo tem 23 anos.'"
      ]
     },
     "execution_count": 59,
     "metadata": {},
     "output_type": "execute_result"
    }
   ],
   "source": [
    "#Concatenando textos: +\n",
    "frase = 'O ' + nome + ' tem ' + idade + ' anos.'\n",
    "\n",
    "frase"
   ]
  },
  {
   "cell_type": "code",
   "execution_count": 60,
   "id": "2a3a8468",
   "metadata": {},
   "outputs": [
    {
     "name": "stdout",
     "output_type": "stream",
     "text": [
      "O Paulo tem 23 anos.\n"
     ]
    }
   ],
   "source": [
    "#Saída da tela: print()\n",
    "print('O ' + nome + ' tem ' + idade + ' anos.')"
   ]
  },
  {
   "cell_type": "code",
   "execution_count": 61,
   "id": "5e6c058d",
   "metadata": {},
   "outputs": [
    {
     "name": "stdout",
     "output_type": "stream",
     "text": [
      "O Paulo tem 23 anos.\n"
     ]
    }
   ],
   "source": [
    "#Outras formas\n",
    "print('O', nome, 'tem', idade,  'anos.')"
   ]
  },
  {
   "cell_type": "code",
   "execution_count": 70,
   "id": "a2384f80",
   "metadata": {},
   "outputs": [
    {
     "name": "stdout",
     "output_type": "stream",
     "text": [
      "O Paulo tem 23 anos.\n"
     ]
    }
   ],
   "source": [
    "#C-style\n",
    "print('O %s tem %s anos.'%(nome,idade))"
   ]
  },
  {
   "cell_type": "code",
   "execution_count": 71,
   "id": "be3bd132",
   "metadata": {},
   "outputs": [
    {
     "name": "stdout",
     "output_type": "stream",
     "text": [
      "O Paulo tem 23 anos.\n"
     ]
    }
   ],
   "source": [
    "#.format()\n",
    "print('O {} tem {} anos.'.format(nome, idade))"
   ]
  },
  {
   "cell_type": "code",
   "execution_count": 72,
   "id": "f7775c1c",
   "metadata": {},
   "outputs": [
    {
     "name": "stdout",
     "output_type": "stream",
     "text": [
      "O Paulo tem 23 anos.\n"
     ]
    }
   ],
   "source": [
    "#f-string\n",
    "print(f'O {nome} tem {idade} anos.')"
   ]
  },
  {
   "cell_type": "code",
   "execution_count": 65,
   "id": "f7dbd1cb",
   "metadata": {},
   "outputs": [
    {
     "ename": "TypeError",
     "evalue": "can only concatenate str (not \"int\") to str",
     "output_type": "error",
     "traceback": [
      "\u001b[1;31m---------------------------------------------------------------------------\u001b[0m",
      "\u001b[1;31mTypeError\u001b[0m                                 Traceback (most recent call last)",
      "Cell \u001b[1;32mIn[65], line 2\u001b[0m\n\u001b[0;32m      1\u001b[0m \u001b[38;5;66;03m#Não possível concatenar strings com valores numéricos\u001b[39;00m\n\u001b[1;32m----> 2\u001b[0m \u001b[38;5;124;43m'\u001b[39;49m\u001b[38;5;124;43mPaulo tem\u001b[39;49m\u001b[38;5;124;43m'\u001b[39;49m\u001b[43m \u001b[49m\u001b[38;5;241;43m+\u001b[39;49m\u001b[43m \u001b[49m\u001b[38;5;241;43m23\u001b[39;49m \u001b[38;5;241m+\u001b[39m \u001b[38;5;124m'\u001b[39m\u001b[38;5;124manos\u001b[39m\u001b[38;5;124m'\u001b[39m\n",
      "\u001b[1;31mTypeError\u001b[0m: can only concatenate str (not \"int\") to str"
     ]
    }
   ],
   "source": [
    "#Não possível concatenar strings com valores numéricos\n",
    "'Paulo tem' + 23 + 'anos'"
   ]
  },
  {
   "cell_type": "code",
   "execution_count": null,
   "id": "b82b0dc6",
   "metadata": {},
   "outputs": [],
   "source": [
    "#Operadores de comparação\n",
    "igual: ==\n",
    "diferente: !=\n",
    "maior: >\n",
    "maior ou igual: >=\n",
    "menor: <\n",
    "menor ou igual: <=\n"
   ]
  },
  {
   "cell_type": "code",
   "execution_count": 75,
   "id": "a8879c0a",
   "metadata": {},
   "outputs": [],
   "source": [
    "x, y, w = 3, 2, 3\n"
   ]
  },
  {
   "cell_type": "code",
   "execution_count": 78,
   "id": "17c0becf",
   "metadata": {},
   "outputs": [
    {
     "data": {
      "text/plain": [
       "(False, True)"
      ]
     },
     "execution_count": 78,
     "metadata": {},
     "output_type": "execute_result"
    }
   ],
   "source": [
    "x == y, x == w"
   ]
  },
  {
   "cell_type": "code",
   "execution_count": 79,
   "id": "4e53dc1a",
   "metadata": {},
   "outputs": [
    {
     "data": {
      "text/plain": [
       "(True, False)"
      ]
     },
     "execution_count": 79,
     "metadata": {},
     "output_type": "execute_result"
    }
   ],
   "source": [
    "x != y, x != w"
   ]
  },
  {
   "cell_type": "code",
   "execution_count": 80,
   "id": "a6229802",
   "metadata": {},
   "outputs": [
    {
     "data": {
      "text/plain": [
       "(True, False)"
      ]
     },
     "execution_count": 80,
     "metadata": {},
     "output_type": "execute_result"
    }
   ],
   "source": [
    "x > y, x > w"
   ]
  },
  {
   "cell_type": "code",
   "execution_count": 81,
   "id": "818e0b0b",
   "metadata": {},
   "outputs": [
    {
     "data": {
      "text/plain": [
       "(True, True)"
      ]
     },
     "execution_count": 81,
     "metadata": {},
     "output_type": "execute_result"
    }
   ],
   "source": [
    "x >= y, x >= w"
   ]
  },
  {
   "cell_type": "code",
   "execution_count": 82,
   "id": "b6618e31",
   "metadata": {},
   "outputs": [
    {
     "data": {
      "text/plain": [
       "(False, False)"
      ]
     },
     "execution_count": 82,
     "metadata": {},
     "output_type": "execute_result"
    }
   ],
   "source": [
    "x < y, x < w"
   ]
  },
  {
   "cell_type": "code",
   "execution_count": 83,
   "id": "f10a3fe0",
   "metadata": {},
   "outputs": [
    {
     "data": {
      "text/plain": [
       "(False, True)"
      ]
     },
     "execution_count": 83,
     "metadata": {},
     "output_type": "execute_result"
    }
   ],
   "source": [
    "x <= y, x <= w"
   ]
  },
  {
   "cell_type": "code",
   "execution_count": 119,
   "id": "25b8e055",
   "metadata": {},
   "outputs": [
    {
     "data": {
      "text/plain": [
       "False"
      ]
     },
     "execution_count": 119,
     "metadata": {},
     "output_type": "execute_result"
    }
   ],
   "source": [
    "x < y < w"
   ]
  },
  {
   "cell_type": "code",
   "execution_count": 87,
   "id": "f87a533f",
   "metadata": {},
   "outputs": [
    {
     "data": {
      "text/plain": [
       "True"
      ]
     },
     "execution_count": 87,
     "metadata": {},
     "output_type": "execute_result"
    }
   ],
   "source": [
    "#Comparando strings\n",
    "\n",
    "\"casa\" == \"casa\""
   ]
  },
  {
   "cell_type": "code",
   "execution_count": 88,
   "id": "58dbd879",
   "metadata": {},
   "outputs": [
    {
     "data": {
      "text/plain": [
       "False"
      ]
     },
     "execution_count": 88,
     "metadata": {},
     "output_type": "execute_result"
    }
   ],
   "source": [
    "\"casa\" != \"casa\""
   ]
  },
  {
   "cell_type": "code",
   "execution_count": 91,
   "id": "179dc7d4",
   "metadata": {},
   "outputs": [
    {
     "data": {
      "text/plain": [
       "False"
      ]
     },
     "execution_count": 91,
     "metadata": {},
     "output_type": "execute_result"
    }
   ],
   "source": [
    "\n",
    "\"A\" > \"a\""
   ]
  },
  {
   "cell_type": "code",
   "execution_count": 98,
   "id": "c815604c",
   "metadata": {},
   "outputs": [
    {
     "data": {
      "text/plain": [
       "(65, 97, 64)"
      ]
     },
     "execution_count": 98,
     "metadata": {},
     "output_type": "execute_result"
    }
   ],
   "source": [
    "#Tabela ascii\n",
    "ord('A'), ord('a'), ord('@')"
   ]
  },
  {
   "cell_type": "code",
   "execution_count": 99,
   "id": "11e85315",
   "metadata": {},
   "outputs": [
    {
     "data": {
      "text/plain": [
       "True"
      ]
     },
     "execution_count": 99,
     "metadata": {},
     "output_type": "execute_result"
    }
   ],
   "source": [
    "#Comparando int com float\n",
    "20.0 ==  20"
   ]
  },
  {
   "cell_type": "markdown",
   "id": "09e3be57",
   "metadata": {},
   "source": []
  },
  {
   "cell_type": "code",
   "execution_count": 101,
   "id": "58b20aae",
   "metadata": {},
   "outputs": [
    {
     "data": {
      "text/plain": [
       "8.0"
      ]
     },
     "execution_count": 101,
     "metadata": {},
     "output_type": "execute_result"
    }
   ],
   "source": [
    "#Precedência dos operadores\n",
    "2 + 3 * 4 ** 0.5"
   ]
  },
  {
   "cell_type": "code",
   "execution_count": 108,
   "id": "fee28f41",
   "metadata": {},
   "outputs": [
    {
     "data": {
      "text/plain": [
       "True"
      ]
     },
     "execution_count": 108,
     "metadata": {},
     "output_type": "execute_result"
    }
   ],
   "source": [
    "(-3 < -1) < 0"
   ]
  },
  {
   "cell_type": "code",
   "execution_count": 110,
   "id": "2a811fd2",
   "metadata": {},
   "outputs": [
    {
     "data": {
      "text/plain": [
       "True"
      ]
     },
     "execution_count": 110,
     "metadata": {},
     "output_type": "execute_result"
    }
   ],
   "source": [
    "True == 1"
   ]
  },
  {
   "cell_type": "code",
   "execution_count": 114,
   "id": "acd0e702",
   "metadata": {},
   "outputs": [
    {
     "name": "stdout",
     "output_type": "stream",
     "text": [
      "Digite sua idade: 12\n"
     ]
    }
   ],
   "source": [
    "#Verificando se a idade digita está entre 10 e 20\n",
    "idade =  int(input('Digite sua idade: '))"
   ]
  },
  {
   "cell_type": "code",
   "execution_count": 117,
   "id": "a451b754",
   "metadata": {},
   "outputs": [
    {
     "data": {
      "text/plain": [
       "True"
      ]
     },
     "execution_count": 117,
     "metadata": {},
     "output_type": "execute_result"
    }
   ],
   "source": [
    "(idade >= 10) and (idade <= 20)"
   ]
  },
  {
   "cell_type": "code",
   "execution_count": 118,
   "id": "b52d8598",
   "metadata": {},
   "outputs": [
    {
     "data": {
      "text/plain": [
       "True"
      ]
     },
     "execution_count": 118,
     "metadata": {},
     "output_type": "execute_result"
    }
   ],
   "source": [
    "10 <= idade <= 20"
   ]
  },
  {
   "cell_type": "code",
   "execution_count": null,
   "id": "5ae955fb",
   "metadata": {},
   "outputs": [],
   "source": []
  }
 ],
 "metadata": {
  "kernelspec": {
   "display_name": "Python 3 (ipykernel)",
   "language": "python",
   "name": "python3"
  },
  "language_info": {
   "codemirror_mode": {
    "name": "ipython",
    "version": 3
   },
   "file_extension": ".py",
   "mimetype": "text/x-python",
   "name": "python",
   "nbconvert_exporter": "python",
   "pygments_lexer": "ipython3",
   "version": "3.11.5"
  }
 },
 "nbformat": 4,
 "nbformat_minor": 5
}
