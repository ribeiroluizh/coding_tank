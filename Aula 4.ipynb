{
 "cells": [
  {
   "cell_type": "markdown",
   "id": "02b53e1e",
   "metadata": {},
   "source": [
    "<div style=\"background-color: lightgreen; padding: 18px;\">\n",
    "    <h1> Coding Tank \n",
    "</div>"
   ]
  },
  {
   "cell_type": "markdown",
   "id": "ce64c00b",
   "metadata": {},
   "source": [
    "<div style=\"background-color: lightblue; padding: 10px;\">\n",
    "    <h2> Tópicos da aula - AULA 4\n",
    "</div>\n",
    "\n",
    "- Loop for\n",
    "- Listas\n",
    "- Índices\n",
    "- Iterações de listas\n",
    "- Métodos de listas"
   ]
  },
  {
   "cell_type": "code",
   "execution_count": null,
   "id": "ea47286e",
   "metadata": {},
   "outputs": [],
   "source": [
    "# for elem in iterável:\n",
    "#   bloco"
   ]
  },
  {
   "cell_type": "code",
   "execution_count": 4,
   "id": "b673c75b",
   "metadata": {},
   "outputs": [
    {
     "data": {
      "text/plain": [
       "[0, 1, 2, 3]"
      ]
     },
     "execution_count": 4,
     "metadata": {},
     "output_type": "execute_result"
    }
   ],
   "source": [
    "list(range(4))"
   ]
  },
  {
   "cell_type": "code",
   "execution_count": 7,
   "id": "d3c947bf",
   "metadata": {},
   "outputs": [
    {
     "name": "stdout",
     "output_type": "stream",
     "text": [
      "0\n",
      "1\n",
      "2\n",
      "3\n"
     ]
    }
   ],
   "source": [
    "for qualquer_variavel in range(4):\n",
    "    print(qualquer_variavel)"
   ]
  },
  {
   "cell_type": "code",
   "execution_count": 8,
   "id": "0b537525",
   "metadata": {},
   "outputs": [
    {
     "name": "stdout",
     "output_type": "stream",
     "text": [
      "c\n",
      "a\n",
      "@\n",
      " \n",
      "s\n",
      "a\n"
     ]
    }
   ],
   "source": [
    "for letra in 'ca@ sa':\n",
    "    print(letra)"
   ]
  },
  {
   "cell_type": "code",
   "execution_count": 9,
   "id": "18aa4eff",
   "metadata": {},
   "outputs": [
    {
     "data": {
      "text/plain": [
       "[0, 1, 2, 3, 4, 5, 6]"
      ]
     },
     "execution_count": 9,
     "metadata": {},
     "output_type": "execute_result"
    }
   ],
   "source": [
    "#Só a condição de parada (stop)\n",
    "list(range(7))"
   ]
  },
  {
   "cell_type": "code",
   "execution_count": 11,
   "id": "f65818e0",
   "metadata": {},
   "outputs": [
    {
     "data": {
      "text/plain": [
       "[-3, -2, -1, 0, 1, 2, 3, 4, 5, 6]"
      ]
     },
     "execution_count": 11,
     "metadata": {},
     "output_type": "execute_result"
    }
   ],
   "source": [
    "#Valor inicial (start) e condição de parada (stop)\n",
    "list(range(-3, 7))"
   ]
  },
  {
   "cell_type": "code",
   "execution_count": 12,
   "id": "0c7fe327",
   "metadata": {},
   "outputs": [
    {
     "data": {
      "text/plain": [
       "[-3, -1, 1, 3, 5]"
      ]
     },
     "execution_count": 12,
     "metadata": {},
     "output_type": "execute_result"
    }
   ],
   "source": [
    "#Valor inicial (start), valor final (stop), passo (step)\n",
    "list(range(-3, 7, 2))"
   ]
  },
  {
   "cell_type": "code",
   "execution_count": 18,
   "id": "4233b280",
   "metadata": {},
   "outputs": [
    {
     "data": {
      "text/plain": [
       "'Cs ameJaa'"
      ]
     },
     "execution_count": 18,
     "metadata": {},
     "output_type": "execute_result"
    }
   ],
   "source": [
    "'Casa da mãe Joana'[::2]"
   ]
  },
  {
   "cell_type": "code",
   "execution_count": null,
   "id": "edf94202",
   "metadata": {},
   "outputs": [],
   "source": [
    "while start + step < stop:\n",
    "    continua"
   ]
  },
  {
   "cell_type": "code",
   "execution_count": 20,
   "id": "a6463a6c",
   "metadata": {},
   "outputs": [
    {
     "data": {
      "text/plain": [
       "[3]"
      ]
     },
     "execution_count": 20,
     "metadata": {},
     "output_type": "execute_result"
    }
   ],
   "source": [
    "# passos (steps) grande\n",
    "list(range(3, 10, 20))"
   ]
  },
  {
   "cell_type": "code",
   "execution_count": 23,
   "id": "02770bb8",
   "metadata": {},
   "outputs": [
    {
     "data": {
      "text/plain": [
       "[10, 8, 6, 4, 2]"
      ]
     },
     "execution_count": 23,
     "metadata": {},
     "output_type": "execute_result"
    }
   ],
   "source": [
    "#Passos negativos\n",
    "list(range(10,0,-2))"
   ]
  },
  {
   "cell_type": "code",
   "execution_count": 34,
   "id": "7b6aac2f",
   "metadata": {},
   "outputs": [
    {
     "data": {
      "text/plain": [
       "[]"
      ]
     },
     "execution_count": 34,
     "metadata": {},
     "output_type": "execute_result"
    }
   ],
   "source": [
    "#Intervalos vazios \n",
    "list(range(12, 0))"
   ]
  },
  {
   "cell_type": "code",
   "execution_count": 46,
   "id": "a3e57faf",
   "metadata": {},
   "outputs": [
    {
     "name": "stdout",
     "output_type": "stream",
     "text": [
      "     \n",
      "    X\n",
      "   XXX\n",
      "  XXXXX\n",
      " XXXXXXX\n",
      "    X\n",
      "    X\n"
     ]
    }
   ],
   "source": [
    "for var in range(5):\n",
    "    print(' '*(5-var) + 'X' * var +'X'*(var-1))\n",
    "\n",
    "for i in range(2):\n",
    "    print('    X')"
   ]
  },
  {
   "cell_type": "code",
   "execution_count": 52,
   "id": "3ac12318",
   "metadata": {
    "scrolled": true
   },
   "outputs": [
    {
     "name": "stdout",
     "output_type": "stream",
     "text": [
      "Digite um número inteiro: 9\n",
      "9 x  1 =  9\n",
      "9 x  2 = 18\n",
      "9 x  3 = 27\n",
      "9 x  4 = 36\n",
      "9 x  5 = 45\n",
      "9 x  6 = 54\n",
      "9 x  7 = 63\n",
      "9 x  8 = 72\n",
      "9 x  9 = 81\n",
      "9 x 10 = 90\n"
     ]
    }
   ],
   "source": [
    "#Faça um programa que peça um número e mostra a tabuada desse número\n",
    "\n",
    "tab = int(input('Digite um número inteiro: '))\n",
    "\n",
    "for i in range(1, 11):\n",
    "    print(f'{tab} x {i:2d} = {tab * i:2d}')\n",
    "\n"
   ]
  },
  {
   "cell_type": "code",
   "execution_count": 62,
   "id": "af82f657",
   "metadata": {},
   "outputs": [
    {
     "name": "stdout",
     "output_type": "stream",
     "text": [
      "Digite o número de notas: 3\n",
      "Digite a 1ª nota: 1\n",
      "Digite a 2ª nota: 1\n",
      "Digite a 3ª nota: 5\n",
      "A média é:  2.33\n"
     ]
    }
   ],
   "source": [
    "#Faça um programa que pede um número n e n notas e faz a média dessas n notas.\n",
    "n = int(input('Digite o número de notas: '))\n",
    "\n",
    "soma = 0\n",
    "for i in range(n):\n",
    "    soma += float(input(f'Digite a {i + 1}ª nota: '))\n",
    "\n",
    "media = soma / n\n",
    "print(f'A média é: {media: .2f}')"
   ]
  },
  {
   "cell_type": "code",
   "execution_count": 77,
   "id": "295aed8e",
   "metadata": {},
   "outputs": [
    {
     "data": {
      "text/plain": [
       "(2.33, 23.333333333333336)"
      ]
     },
     "execution_count": 77,
     "metadata": {},
     "output_type": "execute_result"
    }
   ],
   "source": [
    "#Arredondamento: round(numero, casas decimais)\n",
    "media2 = round(media,2)\n",
    "media2, 10* media"
   ]
  },
  {
   "cell_type": "code",
   "execution_count": 71,
   "id": "14a71d25",
   "metadata": {},
   "outputs": [
    {
     "data": {
      "text/plain": [
       "8.0"
      ]
     },
     "execution_count": 71,
     "metadata": {},
     "output_type": "execute_result"
    }
   ],
   "source": [
    "round(7.999, 2) "
   ]
  },
  {
   "cell_type": "code",
   "execution_count": null,
   "id": "37f7d39b",
   "metadata": {},
   "outputs": [],
   "source": [
    "cont = 0\n",
    "cont = cont + 1  --> 1\n",
    "cont = cont + 1  --> 2\n",
    "cont = cont + 1  --> 3"
   ]
  },
  {
   "cell_type": "code",
   "execution_count": null,
   "id": "b7b5ed43",
   "metadata": {},
   "outputs": [],
   "source": [
    "cont = 0\n",
    "cont += 1 --> 1\n",
    "cont += 1 --> 2\n",
    "cont += 1 --> 3\n"
   ]
  },
  {
   "cell_type": "code",
   "execution_count": null,
   "id": "ccefc486",
   "metadata": {},
   "outputs": [],
   "source": [
    "#Em outras liguangens\n",
    "var = ++cont -->soma 1 antes de usar\n",
    "var = cont++ -->soma 1 após usar"
   ]
  },
  {
   "cell_type": "code",
   "execution_count": 87,
   "id": "1377ce41",
   "metadata": {},
   "outputs": [
    {
     "data": {
      "text/plain": [
       "(3, 4)"
      ]
     },
     "execution_count": 87,
     "metadata": {},
     "output_type": "execute_result"
    }
   ],
   "source": [
    "cont = 3\n",
    "var = 0\n",
    "#var = cont+=1 --> ++cont\n",
    "\n",
    "var, cont = cont, cont+1 \n",
    "var, cont"
   ]
  },
  {
   "cell_type": "code",
   "execution_count": null,
   "id": "71cfaaf3",
   "metadata": {},
   "outputs": [],
   "source": [
    "media = (nota1 + nota2 + nota3) / 3\n",
    "\n",
    "var = ((nota1 - media) ** 2 + (nota2 - media) ** 2 + (nota3 - media) ** 2) / 3  "
   ]
  },
  {
   "cell_type": "code",
   "execution_count": null,
   "id": "a86e00dc",
   "metadata": {},
   "outputs": [],
   "source": []
  },
  {
   "cell_type": "code",
   "execution_count": 91,
   "id": "77afca5f",
   "metadata": {},
   "outputs": [
    {
     "data": {
      "text/plain": [
       "('20', 'tatuagens')"
      ]
     },
     "execution_count": 91,
     "metadata": {},
     "output_type": "execute_result"
    }
   ],
   "source": [
    "#Listas\n",
    "\n",
    "lista = ['20', 'tatuagens']\n",
    "\n",
    "lista[0], lista[1], "
   ]
  },
  {
   "cell_type": "code",
   "execution_count": 93,
   "id": "d78ad374",
   "metadata": {},
   "outputs": [
    {
     "ename": "IndexError",
     "evalue": "list index out of range",
     "output_type": "error",
     "traceback": [
      "\u001b[1;31m---------------------------------------------------------------------------\u001b[0m",
      "\u001b[1;31mIndexError\u001b[0m                                Traceback (most recent call last)",
      "Cell \u001b[1;32mIn[93], line 2\u001b[0m\n\u001b[0;32m      1\u001b[0m \u001b[38;5;66;03m#Tentando acessar um valor fora do intervalo de índices\u001b[39;00m\n\u001b[1;32m----> 2\u001b[0m \u001b[43mlista\u001b[49m\u001b[43m[\u001b[49m\u001b[38;5;241;43m2\u001b[39;49m\u001b[43m]\u001b[49m\n",
      "\u001b[1;31mIndexError\u001b[0m: list index out of range"
     ]
    }
   ],
   "source": [
    "#Tentando acessar um valor fora do intervalo de índices\n",
    "lista[2]"
   ]
  },
  {
   "cell_type": "code",
   "execution_count": 94,
   "id": "2daa826d",
   "metadata": {},
   "outputs": [],
   "source": [
    "notas = []\n"
   ]
  },
  {
   "cell_type": "code",
   "execution_count": 95,
   "id": "2399a008",
   "metadata": {},
   "outputs": [
    {
     "data": {
      "text/plain": [
       "[7.3]"
      ]
     },
     "execution_count": 95,
     "metadata": {},
     "output_type": "execute_result"
    }
   ],
   "source": [
    "#Inserindo elementos na lista: append()\n",
    "notas.append(7.3)\n",
    "notas"
   ]
  },
  {
   "cell_type": "code",
   "execution_count": 96,
   "id": "7b4365fb",
   "metadata": {},
   "outputs": [
    {
     "data": {
      "text/plain": [
       "[7.3, 9]"
      ]
     },
     "execution_count": 96,
     "metadata": {},
     "output_type": "execute_result"
    }
   ],
   "source": [
    "notas.append(9)\n",
    "notas"
   ]
  },
  {
   "cell_type": "code",
   "execution_count": 97,
   "id": "d425668a",
   "metadata": {},
   "outputs": [
    {
     "data": {
      "text/plain": [
       "[3, 3.14, 'três', True, ['outra lista']]"
      ]
     },
     "execution_count": 97,
     "metadata": {},
     "output_type": "execute_result"
    }
   ],
   "source": [
    "#É possível colocar elementos de quaisquer tipos\n",
    "[3, 3.14, 'três', True, ['outra lista']]"
   ]
  },
  {
   "cell_type": "code",
   "execution_count": null,
   "id": "2ba6d17f",
   "metadata": {},
   "outputs": [],
   "source": []
  },
  {
   "cell_type": "code",
   "execution_count": 99,
   "id": "334646fe",
   "metadata": {},
   "outputs": [
    {
     "data": {
      "text/plain": [
       "4"
      ]
     },
     "execution_count": 99,
     "metadata": {},
     "output_type": "execute_result"
    }
   ],
   "source": [
    "#Descobrindo o tamanho da lista: len()\n",
    "\n",
    "len(notas)"
   ]
  },
  {
   "cell_type": "code",
   "execution_count": null,
   "id": "f32506dd",
   "metadata": {},
   "outputs": [],
   "source": [
    "#Somando elementos da lista"
   ]
  },
  {
   "cell_type": "code",
   "execution_count": 100,
   "id": "27842dcf",
   "metadata": {},
   "outputs": [
    {
     "name": "stdout",
     "output_type": "stream",
     "text": [
      "18.0\n"
     ]
    }
   ],
   "source": [
    "#Primeiro forma: índice\n",
    "soma = 0\n",
    "for i in range(len(notas)):\n",
    "    soma += notas[i]\n",
    "print(soma)"
   ]
  },
  {
   "cell_type": "code",
   "execution_count": 109,
   "id": "5554eb45",
   "metadata": {},
   "outputs": [
    {
     "name": "stdout",
     "output_type": "stream",
     "text": [
      "18.0\n"
     ]
    }
   ],
   "source": [
    "#Segunda forma: for each\n",
    "soma = 0\n",
    "for nota in notas:\n",
    "    soma += nota\n",
    "print(soma)"
   ]
  },
  {
   "cell_type": "code",
   "execution_count": 111,
   "id": "3abf09d7",
   "metadata": {},
   "outputs": [
    {
     "data": {
      "text/plain": [
       "18.0"
      ]
     },
     "execution_count": 111,
     "metadata": {},
     "output_type": "execute_result"
    }
   ],
   "source": [
    "#Terceira forma\n",
    "sum(notas)"
   ]
  },
  {
   "cell_type": "code",
   "execution_count": 114,
   "id": "d22d2f47",
   "metadata": {},
   "outputs": [
    {
     "name": "stdout",
     "output_type": "stream",
     "text": [
      "Digite o número de notas: 2\n",
      "Digite a 1ª nota: 3\n",
      "Digite a 2ª nota: 4\n",
      "3.5 0.25\n"
     ]
    }
   ],
   "source": [
    "#Faça um programa que pede um número n e n notas e faz a média e variança dessas n notas.\n",
    "n = int(input('Digite o número de notas: '))\n",
    "\n",
    "soma = 0\n",
    "notas = []\n",
    "\n",
    "for i in range(n):\n",
    "    notas.append(float(input(f'Digite a {i + 1}ª nota: ')))\n",
    "    \n",
    "media = sum(notas) / n    \n",
    "\n",
    "var = 0\n",
    "for nota in notas:\n",
    "    var += (nota - media) ** 2\n",
    "\n",
    "var /= n\n",
    "\n",
    "print(media, var)"
   ]
  },
  {
   "cell_type": "code",
   "execution_count": null,
   "id": "ab57ea36",
   "metadata": {},
   "outputs": [],
   "source": [
    "#Métodos de lista\n",
    "nomes = ['Mayara', 'Gabriele', 'Karoline', 'Leticia', 'Luciane', 'Mariana', 'Suzielli', 'Vivian']\n",
    "\n",
    "idades = [21, 34, 7, 78, 15]\n"
   ]
  },
  {
   "cell_type": "code",
   "execution_count": 122,
   "id": "b8d22a0d",
   "metadata": {},
   "outputs": [
    {
     "name": "stdout",
     "output_type": "stream",
     "text": [
      "8\n",
      "9\n"
     ]
    },
    {
     "data": {
      "text/plain": [
       "['Mayara',\n",
       " 'Gabriele',\n",
       " 'Karoline',\n",
       " 'Leticia',\n",
       " 'Luciane',\n",
       " 'Mariana',\n",
       " 'Suzielli',\n",
       " 'Vivian',\n",
       " [21, 34, 7, 78, 15]]"
      ]
     },
     "execution_count": 122,
     "metadata": {},
     "output_type": "execute_result"
    }
   ],
   "source": [
    "nomes = ['Mayara', 'Gabriele', 'Karoline', 'Leticia', 'Luciane', 'Mariana', 'Suzielli', 'Vivian']\n",
    "idades = [21, 34, 7, 78, 15]\n",
    "\n",
    "print(len(nomes))\n",
    "nomes.append(idades)\n",
    "print(len(nomes))\n",
    "nomes"
   ]
  },
  {
   "cell_type": "code",
   "execution_count": 123,
   "id": "c918506c",
   "metadata": {},
   "outputs": [
    {
     "name": "stdout",
     "output_type": "stream",
     "text": [
      "8\n",
      "16\n"
     ]
    },
    {
     "data": {
      "text/plain": [
       "['Mayara',\n",
       " 'Gabriele',\n",
       " 'Karoline',\n",
       " 'Leticia',\n",
       " 'Luciane',\n",
       " 'Mariana',\n",
       " 'Suzielli',\n",
       " 'Vivian',\n",
       " 21,\n",
       " 34,\n",
       " 7,\n",
       " 78,\n",
       " 15,\n",
       " 32,\n",
       " 20,\n",
       " 40]"
      ]
     },
     "execution_count": 123,
     "metadata": {},
     "output_type": "execute_result"
    }
   ],
   "source": [
    "nomes = ['Mayara', 'Gabriele', 'Karoline', 'Leticia', 'Luciane', 'Mariana', 'Suzielli', 'Vivian']\n",
    "idades = [21, 34, 7, 78, 15, 32, 20, 40]\n",
    "\n",
    "print(len(nomes))\n",
    "nomes.extend(idades)\n",
    "print(len(nomes))\n",
    "nomes "
   ]
  },
  {
   "cell_type": "code",
   "execution_count": 126,
   "id": "dab68504",
   "metadata": {},
   "outputs": [
    {
     "data": {
      "text/plain": [
       "[('Mayara', 21),\n",
       " ('Gabriele', 34),\n",
       " ('Karoline', 7),\n",
       " ('Leticia', 78),\n",
       " ('Luciane', 15),\n",
       " ('Mariana', 32),\n",
       " ('Suzielli', 20),\n",
       " ('Vivian', 40)]"
      ]
     },
     "execution_count": 126,
     "metadata": {},
     "output_type": "execute_result"
    }
   ],
   "source": [
    "nomes = ['Mayara', 'Gabriele', 'Karoline', 'Leticia', 'Luciane', 'Mariana', 'Suzielli', 'Vivian']\n",
    "idades = [21, 34, 7, 78, 15, 32, 20, 40]\n",
    "\n",
    "dados = []\n",
    "\n",
    "#Utilizando um elemento de cada lista: zip()\n",
    "for nome, idade in zip(nomes, idades):\n",
    "    dados.append((nome, idade))\n",
    "\n",
    "dados"
   ]
  },
  {
   "cell_type": "code",
   "execution_count": 130,
   "id": "f1399c4f",
   "metadata": {},
   "outputs": [
    {
     "data": {
      "text/plain": [
       "['Mayara',\n",
       " 'Gabriele',\n",
       " 'Karoline',\n",
       " 'Leticia',\n",
       " 'Luciane',\n",
       " 'Mariana',\n",
       " 'Suzielli',\n",
       " 'Vivian']"
      ]
     },
     "execution_count": 130,
     "metadata": {},
     "output_type": "execute_result"
    }
   ],
   "source": [
    "nomes."
   ]
  },
  {
   "cell_type": "code",
   "execution_count": 131,
   "id": "0b5a70ce",
   "metadata": {},
   "outputs": [
    {
     "data": {
      "text/plain": [
       "['Mayara',\n",
       " 21,\n",
       " 'Gabriele',\n",
       " 34,\n",
       " 'Karoline',\n",
       " 7,\n",
       " 'Leticia',\n",
       " 78,\n",
       " 'Luciane',\n",
       " 15,\n",
       " 'Mariana',\n",
       " 32,\n",
       " 'Suzielli',\n",
       " 20,\n",
       " 'Vivian',\n",
       " 40]"
      ]
     },
     "execution_count": 131,
     "metadata": {},
     "output_type": "execute_result"
    }
   ],
   "source": [
    "dado_alternado = []\n",
    "\n",
    "for i in range(len(nomes)):\n",
    "    dado_alternado.append(nomes[i])\n",
    "    dado_alternado.append(idades[i])\n",
    "    \n",
    "dado_alternado"
   ]
  },
  {
   "cell_type": "code",
   "execution_count": 137,
   "id": "5668eb52",
   "metadata": {},
   "outputs": [
    {
     "data": {
      "text/plain": [
       "1"
      ]
     },
     "execution_count": 137,
     "metadata": {},
     "output_type": "execute_result"
    }
   ],
   "source": [
    "#Contando elementos específicos da lista: count()\n",
    "nomes.count('Suzielli')"
   ]
  },
  {
   "cell_type": "code",
   "execution_count": 138,
   "id": "d8757ab6",
   "metadata": {},
   "outputs": [
    {
     "data": {
      "text/plain": [
       "6"
      ]
     },
     "execution_count": 138,
     "metadata": {},
     "output_type": "execute_result"
    }
   ],
   "source": [
    "#Descobrindo o índice de um elemento\n",
    "nomes.index('Suzielli')"
   ]
  },
  {
   "cell_type": "code",
   "execution_count": 140,
   "id": "1eea742e",
   "metadata": {},
   "outputs": [
    {
     "data": {
      "text/plain": [
       "3"
      ]
     },
     "execution_count": 140,
     "metadata": {},
     "output_type": "execute_result"
    }
   ],
   "source": [
    "[2,3,4,5,2,5].index(5)"
   ]
  },
  {
   "cell_type": "code",
   "execution_count": 142,
   "id": "dea26c89",
   "metadata": {},
   "outputs": [
    {
     "data": {
      "text/plain": [
       "[2, 3, 4, 2, 5]"
      ]
     },
     "execution_count": 142,
     "metadata": {},
     "output_type": "execute_result"
    }
   ],
   "source": [
    "#Removendo a primeira ocorrência de um elemento\n",
    "temp = [2,3,4,5,2,5]\n",
    "\n",
    "temp.remove(5)\n",
    "\n",
    "temp"
   ]
  },
  {
   "cell_type": "code",
   "execution_count": 144,
   "id": "590d2c4e",
   "metadata": {
    "scrolled": true
   },
   "outputs": [
    {
     "data": {
      "text/plain": [
       "5"
      ]
     },
     "execution_count": 144,
     "metadata": {},
     "output_type": "execute_result"
    }
   ],
   "source": [
    "temp.pop()"
   ]
  },
  {
   "cell_type": "code",
   "execution_count": 146,
   "id": "00fba84b",
   "metadata": {},
   "outputs": [
    {
     "data": {
      "text/plain": [
       "2"
      ]
     },
     "execution_count": 146,
     "metadata": {},
     "output_type": "execute_result"
    }
   ],
   "source": [
    "temp.pop()"
   ]
  },
  {
   "cell_type": "code",
   "execution_count": 147,
   "id": "cd9a71cb",
   "metadata": {},
   "outputs": [
    {
     "data": {
      "text/plain": [
       "[2, 3, 4]"
      ]
     },
     "execution_count": 147,
     "metadata": {},
     "output_type": "execute_result"
    }
   ],
   "source": [
    "temp"
   ]
  },
  {
   "cell_type": "code",
   "execution_count": 148,
   "id": "1347e53b",
   "metadata": {},
   "outputs": [
    {
     "data": {
      "text/plain": [
       "[2, 3, -1, 4]"
      ]
     },
     "execution_count": 148,
     "metadata": {},
     "output_type": "execute_result"
    }
   ],
   "source": [
    "temp.insert(2, -1)\n",
    "\n",
    "temp"
   ]
  },
  {
   "cell_type": "code",
   "execution_count": 151,
   "id": "1ba03ad7",
   "metadata": {},
   "outputs": [],
   "source": [
    "espertas = nomes.copy()\n"
   ]
  },
  {
   "cell_type": "code",
   "execution_count": 153,
   "id": "6573c5eb",
   "metadata": {},
   "outputs": [
    {
     "data": {
      "text/plain": [
       "['Mayara',\n",
       " 'Gabriele',\n",
       " 'Karoline',\n",
       " 'Leticia',\n",
       " 'Luciane',\n",
       " 'Mariana',\n",
       " 'Suzielli',\n",
       " 'Vivian',\n",
       " 'Bruna']"
      ]
     },
     "execution_count": 153,
     "metadata": {},
     "output_type": "execute_result"
    }
   ],
   "source": [
    "espertas.append('Bruna')\n",
    "espertas"
   ]
  },
  {
   "cell_type": "code",
   "execution_count": 155,
   "id": "71142751",
   "metadata": {},
   "outputs": [
    {
     "data": {
      "text/plain": [
       "['Mayara',\n",
       " 'Gabriele',\n",
       " 'Karoline',\n",
       " 'Leticia',\n",
       " 'Luciane',\n",
       " 'Mariana',\n",
       " 'Suzielli',\n",
       " 'Vivian']"
      ]
     },
     "execution_count": 155,
     "metadata": {},
     "output_type": "execute_result"
    }
   ],
   "source": [
    "nomes"
   ]
  },
  {
   "cell_type": "code",
   "execution_count": 156,
   "id": "04046eb3",
   "metadata": {},
   "outputs": [],
   "source": [
    "proibidas = nomes"
   ]
  },
  {
   "cell_type": "code",
   "execution_count": 158,
   "id": "df652dd1",
   "metadata": {},
   "outputs": [],
   "source": [
    "proibidas.append('Surfistinha')"
   ]
  },
  {
   "cell_type": "code",
   "execution_count": 160,
   "id": "880268bc",
   "metadata": {},
   "outputs": [
    {
     "data": {
      "text/plain": [
       "['Mayara',\n",
       " 'Gabriele',\n",
       " 'Karoline',\n",
       " 'Leticia',\n",
       " 'Luciane',\n",
       " 'Mariana',\n",
       " 'Suzielli',\n",
       " 'Vivian',\n",
       " 'Surfistinha']"
      ]
     },
     "execution_count": 160,
     "metadata": {},
     "output_type": "execute_result"
    }
   ],
   "source": [
    "proibidas"
   ]
  },
  {
   "cell_type": "code",
   "execution_count": 161,
   "id": "40916383",
   "metadata": {},
   "outputs": [
    {
     "data": {
      "text/plain": [
       "['Mayara',\n",
       " 'Gabriele',\n",
       " 'Karoline',\n",
       " 'Leticia',\n",
       " 'Luciane',\n",
       " 'Mariana',\n",
       " 'Suzielli',\n",
       " 'Vivian',\n",
       " 'Surfistinha']"
      ]
     },
     "execution_count": 161,
     "metadata": {},
     "output_type": "execute_result"
    }
   ],
   "source": [
    "nomes"
   ]
  },
  {
   "cell_type": "code",
   "execution_count": 163,
   "id": "ac590b07",
   "metadata": {},
   "outputs": [
    {
     "data": {
      "text/plain": [
       "[('Mayara', 21),\n",
       " ('Gabriele', 34),\n",
       " ('Karoline', 7),\n",
       " ('Leticia', 78),\n",
       " ('Luciane', 15),\n",
       " ('Mariana', 32),\n",
       " ('Suzielli', 20),\n",
       " ('Vivian', 40)]"
      ]
     },
     "execution_count": 163,
     "metadata": {},
     "output_type": "execute_result"
    }
   ],
   "source": [
    "dados"
   ]
  },
  {
   "cell_type": "code",
   "execution_count": 179,
   "id": "6a76cd57",
   "metadata": {},
   "outputs": [],
   "source": [
    "varios = ['nome', 34, ['sobrenome', 100], True, [3,-9, 'sapato']]"
   ]
  },
  {
   "cell_type": "code",
   "execution_count": 180,
   "id": "9ddc5361",
   "metadata": {},
   "outputs": [
    {
     "data": {
      "text/plain": [
       "'SOBRENOME'"
      ]
     },
     "execution_count": 180,
     "metadata": {},
     "output_type": "execute_result"
    }
   ],
   "source": [
    "varios[2][0].upper()"
   ]
  },
  {
   "cell_type": "code",
   "execution_count": 181,
   "id": "f107f18a",
   "metadata": {},
   "outputs": [
    {
     "name": "stdout",
     "output_type": "stream",
     "text": [
      "nome\n",
      "34\n",
      "sobrenome\n",
      "100\n",
      "True\n",
      "3\n",
      "-9\n",
      "sapato\n"
     ]
    }
   ],
   "source": [
    "for elem in varios:\n",
    "    if type(elem) == type(list()):\n",
    "        for elementozinho in elem:\n",
    "            print(elementozinho)\n",
    "    else:\n",
    "        print(elem)"
   ]
  },
  {
   "cell_type": "code",
   "execution_count": 184,
   "id": "09d3bf28",
   "metadata": {},
   "outputs": [
    {
     "data": {
      "text/plain": [
       "True"
      ]
     },
     "execution_count": 184,
     "metadata": {},
     "output_type": "execute_result"
    }
   ],
   "source": [
    "isinstance(varios,list)"
   ]
  },
  {
   "cell_type": "markdown",
   "id": "c92c43c4",
   "metadata": {},
   "source": [
    "##### Exercício"
   ]
  },
  {
   "cell_type": "markdown",
   "id": "d3a54409",
   "metadata": {},
   "source": [
    "Faça um programa que pede dois números e mostra as duas tabuadas lado a lado.\n",
    "\n",
    "Exemplo: 3 e 7\n",
    "\n",
    "3 x 1 = 2   |    7 x 1 =  7  \n",
    "3 x 2 = 6   |    7 x 1 = 14  \n",
    "3 x 3 = 9   |    7 x 1 = 21  \n",
    "\n",
    "..."
   ]
  },
  {
   "cell_type": "code",
   "execution_count": 3,
   "id": "bcc227d1",
   "metadata": {
    "tags": []
   },
   "outputs": [
    {
     "name": "stdin",
     "output_type": "stream",
     "text": [
      "insira um numero:  5\n",
      "insira outro numero:  6\n"
     ]
    },
    {
     "name": "stdout",
     "output_type": "stream",
     "text": [
      "['5', '6']\n"
     ]
    }
   ],
   "source": [
    "lista = []\n",
    "\n",
    "numero = input('insira um numero: ')\n",
    "numero2 = input('insira outro numero: ')\n",
    "\n",
    "lista.append(numero)\n",
    "lista.append(numero2)\n",
    "\n",
    "\n",
    "print(lista)"
   ]
  },
  {
   "cell_type": "markdown",
   "id": "d5b23280",
   "metadata": {},
   "source": [
    "Faça um programa que recebe duas listas (A e B) de tamanhos diferentes e mostra na tela: \n",
    "1. Os elementos de A que estão em B.  \n",
    "2. Os elementos de B que estão em A.\n",
    "3. Os elementos comuns nos dois conjuntos."
   ]
  },
  {
   "cell_type": "code",
   "execution_count": null,
   "id": "ed2474de",
   "metadata": {},
   "outputs": [],
   "source": []
  },
  {
   "cell_type": "code",
   "execution_count": 2,
   "id": "874e61f3",
   "metadata": {
    "tags": []
   },
   "outputs": [
    {
     "data": {
      "text/plain": [
       "['123', '345']"
      ]
     },
     "execution_count": 2,
     "metadata": {},
     "output_type": "execute_result"
    }
   ],
   "source": []
  },
  {
   "cell_type": "code",
   "execution_count": null,
   "id": "1a3d6470",
   "metadata": {},
   "outputs": [],
   "source": []
  }
 ],
 "metadata": {
  "kernelspec": {
   "display_name": "Python 3 (ipykernel)",
   "language": "python",
   "name": "python3"
  },
  "language_info": {
   "codemirror_mode": {
    "name": "ipython",
    "version": 3
   },
   "file_extension": ".py",
   "mimetype": "text/x-python",
   "name": "python",
   "nbconvert_exporter": "python",
   "pygments_lexer": "ipython3",
   "version": "3.11.5"
  }
 },
 "nbformat": 4,
 "nbformat_minor": 5
}
