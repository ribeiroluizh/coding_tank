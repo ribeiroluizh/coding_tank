{
 "cells": [
  {
   "cell_type": "code",
   "execution_count": 8,
   "id": "6d77bc02-b876-462f-a381-a84ce8ee99f8",
   "metadata": {
    "tags": []
   },
   "outputs": [
    {
     "name": "stdin",
     "output_type": "stream",
     "text": [
      "Digite seu nome Luiz\n",
      "Digite sua idade 23\n"
     ]
    }
   ],
   "source": [
    "nome = input('Digite seu nome')\n",
    "idade = int(input('Digite sua idade'))\n"
   ]
  },
  {
   "cell_type": "code",
   "execution_count": 9,
   "id": "9c4c4f70-28e3-4d43-af47-7fb1faf42920",
   "metadata": {
    "tags": []
   },
   "outputs": [
    {
     "name": "stdout",
     "output_type": "stream",
     "text": [
      "O Luiz tem 23 anos.\n"
     ]
    }
   ],
   "source": [
    "print(f'O {nome} tem {idade} anos.')"
   ]
  },
  {
   "cell_type": "code",
   "execution_count": null,
   "id": "089e6a39-cd88-4783-ab97-79458a31aecd",
   "metadata": {},
   "outputs": [],
   "source": []
  }
 ],
 "metadata": {
  "kernelspec": {
   "display_name": "Python 3 (ipykernel)",
   "language": "python",
   "name": "python3"
  },
  "language_info": {
   "codemirror_mode": {
    "name": "ipython",
    "version": 3
   },
   "file_extension": ".py",
   "mimetype": "text/x-python",
   "name": "python",
   "nbconvert_exporter": "python",
   "pygments_lexer": "ipython3",
   "version": "3.11.5"
  }
 },
 "nbformat": 4,
 "nbformat_minor": 5
}
