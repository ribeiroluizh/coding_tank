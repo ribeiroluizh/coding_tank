{
 "cells": [
  {
   "cell_type": "code",
   "execution_count": 39,
   "id": "a3af40fe-a547-4616-8fdb-47a24591e2c9",
   "metadata": {
    "tags": []
   },
   "outputs": [],
   "source": [
    "texto = 'O Botafogo é cavalo paraguaio.'"
   ]
  },
  {
   "cell_type": "code",
   "execution_count": 40,
   "id": "82f51d83-8a61-4df2-b319-8d680021a2d6",
   "metadata": {
    "tags": []
   },
   "outputs": [
    {
     "data": {
      "text/plain": [
       "2"
      ]
     },
     "execution_count": 40,
     "metadata": {},
     "output_type": "execute_result"
    }
   ],
   "source": [
    "texto.index('é')\n",
    "texto.find('Botafogo')"
   ]
  },
  {
   "cell_type": "code",
   "execution_count": 44,
   "id": "e7069172-9e79-4b76-a5dd-5ee307310a66",
   "metadata": {
    "tags": []
   },
   "outputs": [
    {
     "data": {
      "text/plain": [
       "'O atletico mineiro é cavalo paraguaio.'"
      ]
     },
     "execution_count": 44,
     "metadata": {},
     "output_type": "execute_result"
    }
   ],
   "source": [
    "texto.replace('Botafogo', 'atletico mineiro')"
   ]
  },
  {
   "cell_type": "code",
   "execution_count": null,
   "id": "c1ae569f-9025-4375-94c0-ac6a2299099e",
   "metadata": {},
   "outputs": [],
   "source": [
    "# Estruturas de repetição\n",
    "# while \n",
    "# importante que se der um loop no notebook ele corre o risco de travar o notebook\n",
    "# while é utilizado quando estamos lidando com problemas que não sabemos o numero de repetições\n"
   ]
  },
  {
   "cell_type": "code",
   "execution_count": null,
   "id": "59e8f02b-c1d9-438d-8ea2-acc23381a5f7",
   "metadata": {
    "tags": []
   },
   "outputs": [],
   "source": [
    "'''# Verificando se a senha tem 8 algarismos. \n",
    "Caso contrario, pedir uma nova senha. '''\n",
    "\n",
    "senha = input('Digite a senha (8 digitos): ')\n",
    "\n",
    "while len(senha) != 8 or not senha.isnumeric():\n",
    "    print('Digite uma senha com 8 digitos.')\n",
    "    senha = input('Digite a senha (8 digitos): ')\n",
    "else:\n",
    "    print('Senha válida!')\n"
   ]
  },
  {
   "cell_type": "code",
   "execution_count": null,
   "id": "dceb5a57-1f01-4c23-b298-053fcb025121",
   "metadata": {
    "tags": []
   },
   "outputs": [],
   "source": [
    "senha = input('Digite a senha (8 digitos): ')\n",
    "tentativas = 2\n",
    "\n",
    "while len(senha) != 8 or not senha.isnumeric():\n",
    "    print(f'Você tem mais {tentativas} tentativas.')\n",
    "    print('Digite uma senha com 8 digitos.')\n",
    "    senha = input('Digite a senha (8 digitos): ')\n",
    "    tentativas = tentativas -1\n",
    "    \n",
    "    if tentativas == 0:\n",
    "        print('tente novamente daqui 5 minutos.')\n",
    "        break\n",
    "else:\n",
    "    print('Senha válida!')"
   ]
  },
  {
   "cell_type": "code",
   "execution_count": null,
   "id": "0500ec22-39cf-4e3d-9888-da77411003eb",
   "metadata": {},
   "outputs": [],
   "source": []
  },
  {
   "cell_type": "code",
   "execution_count": null,
   "id": "28f3de52-a935-4f48-b146-a2e827438103",
   "metadata": {},
   "outputs": [],
   "source": []
  },
  {
   "cell_type": "code",
   "execution_count": null,
   "id": "e3e8933f-0744-40e6-bf71-18de5b4915f1",
   "metadata": {},
   "outputs": [],
   "source": []
  },
  {
   "cell_type": "code",
   "execution_count": null,
   "id": "b065f5a1-6f09-4051-baae-0cea838f32e6",
   "metadata": {},
   "outputs": [],
   "source": []
  },
  {
   "cell_type": "code",
   "execution_count": null,
   "id": "b06d3bcf-c6fa-44d5-888f-eb0b2736c2ba",
   "metadata": {},
   "outputs": [],
   "source": []
  }
 ],
 "metadata": {
  "kernelspec": {
   "display_name": "Python 3 (ipykernel)",
   "language": "python",
   "name": "python3"
  },
  "language_info": {
   "codemirror_mode": {
    "name": "ipython",
    "version": 3
   },
   "file_extension": ".py",
   "mimetype": "text/x-python",
   "name": "python",
   "nbconvert_exporter": "python",
   "pygments_lexer": "ipython3",
   "version": "3.11.5"
  }
 },
 "nbformat": 4,
 "nbformat_minor": 5
}
