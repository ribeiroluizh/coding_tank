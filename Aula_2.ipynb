{
 "cells": [
  {
   "cell_type": "code",
   "execution_count": null,
   "id": "e1a735fb-fe69-4a6d-b9c4-d5caf452c123",
   "metadata": {
    "tags": []
   },
   "outputs": [],
   "source": [
    "#if teste lógico\n",
    "\n",
    "#Booleanos \n",
    "\n",
    "teste = True (False)"
   ]
  },
  {
   "cell_type": "code",
   "execution_count": null,
   "id": "4b11e656-ec94-4a28-83ea-e308cab8b143",
   "metadata": {
    "tags": []
   },
   "outputs": [],
   "source": [
    "# Operadores lógicos, uma entidade que vai transformar (modificar alguma cosia) \n",
    "# recebe valores booleanos e faz operações, gerando algum resultado que pode ser qualquer coisa.\n",
    "''' o resultado pode ser do mesmo tipo, ou de tipos diferentes. \n",
    "operadores lógicos: and, or e not\n",
    "são esses três operadores que são utilizados no python\n",
    "exemplo: '''\n",
    "''' quando eu quero avaliar e que duas condições tenham algum resultado. \n",
    "quando existem duas condições.  \n",
    "exemplo: brinquedo do parque de diversões: altura e idade:\n",
    "são condições combinadas para resultar em algo.\n",
    "'''\n",
    "True and not False, not True\n"
   ]
  },
  {
   "cell_type": "code",
   "execution_count": 42,
   "id": "ea0d3778-b5e9-4c70-aa1d-09202aed588a",
   "metadata": {
    "tags": []
   },
   "outputs": [
    {
     "data": {
      "text/plain": [
       "False"
      ]
     },
     "execution_count": 42,
     "metadata": {},
     "output_type": "execute_result"
    }
   ],
   "source": [
    "#Truthy/Falsy - o python considera outros tipos como verdadeiro ou falso. \n",
    "''' São valores que tem sentido, tem valor de falso ou valor de vedadeiro\n",
    "Falso: \n",
    "Booleanos --> False\n",
    "int --> 0\n",
    "float --> 0.0\n",
    "string --> '' (string vazia) \n",
    "list -- > []\n",
    "dict/set --> {}\n",
    "tuple --> ()\n",
    "tudo o que é vazio, são considerados falsos.\n",
    "todos os outros deu verdadeiro. \n",
    "'''\n",
    "not(False, True) and True # neste caso, ele considera o () como uma tupla, portanto está negando a tupla verdadeira, resultado: falso "
   ]
  },
  {
   "cell_type": "code",
   "execution_count": null,
   "id": "10d828e3-1c7d-42aa-97f5-a1ee20c67834",
   "metadata": {},
   "outputs": [],
   "source": [
    "# Precedencia dos operadores lógicos\n",
    "not\n",
    "and\n",
    "or\n"
   ]
  },
  {
   "cell_type": "code",
   "execution_count": 44,
   "id": "5be8dc59-3746-4a4f-9c06-12c9ed321c2f",
   "metadata": {
    "tags": []
   },
   "outputs": [
    {
     "name": "stdin",
     "output_type": "stream",
     "text": [
      "digite sua idade: 23\n"
     ]
    },
    {
     "name": "stdout",
     "output_type": "stream",
     "text": [
      "23 anos.\n"
     ]
    }
   ],
   "source": [
    "# combinamos essas operações lógicas para definição das condições do if/else/elif\n",
    "\n",
    "#if ---> se\n",
    "\n",
    "idade = input('digite sua idade:')\n",
    "\n",
    "if int(idade) > 10:\n",
    "    print(idade, 'anos.')\n",
    "    "
   ]
  },
  {
   "cell_type": "code",
   "execution_count": 47,
   "id": "ee948adf-0ec0-43e8-948a-afdf8796f2be",
   "metadata": {
    "tags": []
   },
   "outputs": [
    {
     "name": "stdin",
     "output_type": "stream",
     "text": [
      "Digite seu nome:  Laura\n",
      "Digite sua idade:  5\n"
     ]
    },
    {
     "name": "stdout",
     "output_type": "stream",
     "text": [
      "Laura é menor de idade\n"
     ]
    }
   ],
   "source": [
    "nome = input('Digite seu nome: ')\n",
    "\n",
    "idade = int(input('Digite sua idade: '))\n",
    "\n",
    "if idade >= 18:\n",
    "    print(f'{nome} é maior de idade.')\n",
    "else:\n",
    "    print(f'{nome} é menor de idade')\n",
    "    "
   ]
  },
  {
   "cell_type": "code",
   "execution_count": 66,
   "id": "8a2705d9-6095-4d87-b310-ec4520f542ae",
   "metadata": {
    "tags": []
   },
   "outputs": [
    {
     "name": "stdin",
     "output_type": "stream",
     "text": [
      "Digite a sua idade:  22\n"
     ]
    },
    {
     "name": "stdout",
     "output_type": "stream",
     "text": [
      "Maior de idade em ambos os países.\n"
     ]
    }
   ],
   "source": [
    "# elif\n",
    "maiorBR = 18\n",
    "maiorEUA = 21\n",
    "\n",
    "idade = int(input('Digite a sua idade: '))\n",
    "\n",
    "if idade >= maiorBR and idade >= maiorEUA:\n",
    "    print('Maior de idade em ambos os países.')\n",
    "elif idade >= maiorBR:\n",
    "    print('Maior de idade no Brasil e menor de idade nos EUA')\n",
    "else:\n",
    "    print('Menor de idade.')\n"
   ]
  },
  {
   "cell_type": "code",
   "execution_count": 61,
   "id": "37583d45-3aca-454b-83ed-6135bd75b5d6",
   "metadata": {
    "tags": []
   },
   "outputs": [
    {
     "name": "stdin",
     "output_type": "stream",
     "text": [
      "Digite a sua idade:  17.6\n"
     ]
    },
    {
     "name": "stdout",
     "output_type": "stream",
     "text": [
      "menor de idade.\n"
     ]
    }
   ],
   "source": [
    "maiorBR = 18\n",
    "maiorEUA = 21\n",
    "\n",
    "idade = float(input('Digite a sua idade: '))\n",
    "\n",
    "if idade < 0 or idade > 120:\n",
    "    print ('idade invalida')\n",
    "elif idade >= maiorBR and idade >= maiorEUA:\n",
    "    print('Maior de idade em ambos os países.')\n",
    "elif idade >= maiorBR:\n",
    "    print('Maior de idade no Brasil e menor de idade nos EUA')\n",
    "else:\n",
    "    print('menor de idade.')\n",
    "    \n"
   ]
  },
  {
   "cell_type": "code",
   "execution_count": 71,
   "id": "7b6e13a8-1b00-452a-b755-a594236839e3",
   "metadata": {
    "tags": []
   },
   "outputs": [
    {
     "data": {
      "text/plain": [
       "'O SANTOS CAIU PARA A SEGUNDA DIVISÃO.'"
      ]
     },
     "execution_count": 71,
     "metadata": {},
     "output_type": "execute_result"
    }
   ],
   "source": [
    "# Métodos de string: string.nome_do_metodo()\n",
    "texto = 'O santos caiu para a segunda divisão.'\n",
    "\n",
    "texto.upper()\n"
   ]
  },
  {
   "cell_type": "code",
   "execution_count": 72,
   "id": "7bff0ee9-2612-4dc9-9ab5-993d5ac4e50b",
   "metadata": {
    "tags": []
   },
   "outputs": [
    {
     "data": {
      "text/plain": [
       "'o santos caiu para a segunda divisão.'"
      ]
     },
     "execution_count": 72,
     "metadata": {},
     "output_type": "execute_result"
    }
   ],
   "source": [
    "texto.lower() #lower() --> caixa baixa"
   ]
  },
  {
   "cell_type": "code",
   "execution_count": 73,
   "id": "1456eaf4-1a47-41e9-92f7-72d0e84e9ca2",
   "metadata": {
    "tags": []
   },
   "outputs": [
    {
     "data": {
      "text/plain": [
       "'O santos caiu para a segunda divisão.'"
      ]
     },
     "execution_count": 73,
     "metadata": {},
     "output_type": "execute_result"
    }
   ],
   "source": [
    "texto.capitalize() #deixa apenas a primeira letra maiuscula"
   ]
  },
  {
   "cell_type": "code",
   "execution_count": 75,
   "id": "c48558b1-19b5-4093-bde0-d131a50e0fb5",
   "metadata": {
    "tags": []
   },
   "outputs": [
    {
     "data": {
      "text/plain": [
       "'O Santos Caiu Para A Segunda Divisão.'"
      ]
     },
     "execution_count": 75,
     "metadata": {},
     "output_type": "execute_result"
    }
   ],
   "source": [
    "texto.title() #todas as primeiras letras em caixa alta"
   ]
  },
  {
   "cell_type": "code",
   "execution_count": null,
   "id": "d917eec5-9215-4320-ad69-64442add99bd",
   "metadata": {},
   "outputs": [],
   "source": [
    "texto.find(a) #encontra o primeiro indice do caracter buscado"
   ]
  },
  {
   "cell_type": "code",
   "execution_count": 98,
   "id": "71e298d1-da73-4650-b7fa-f045e4d3157a",
   "metadata": {
    "tags": []
   },
   "outputs": [
    {
     "data": {
      "text/plain": [
       "False"
      ]
     },
     "execution_count": 98,
     "metadata": {},
     "output_type": "execute_result"
    }
   ],
   "source": [
    "'23.4'.isidentifier()"
   ]
  },
  {
   "cell_type": "code",
   "execution_count": null,
   "id": "25c975fe-0ef3-4048-8b09-364727266fbe",
   "metadata": {},
   "outputs": [],
   "source": []
  }
 ],
 "metadata": {
  "kernelspec": {
   "display_name": "Python 3 (ipykernel)",
   "language": "python",
   "name": "python3"
  },
  "language_info": {
   "codemirror_mode": {
    "name": "ipython",
    "version": 3
   },
   "file_extension": ".py",
   "mimetype": "text/x-python",
   "name": "python",
   "nbconvert_exporter": "python",
   "pygments_lexer": "ipython3",
   "version": "3.11.5"
  }
 },
 "nbformat": 4,
 "nbformat_minor": 5
}
