{
 "cells": [
  {
   "cell_type": "markdown",
   "id": "f7e85232-b650-4dd7-a23d-e72728381123",
   "metadata": {},
   "source": [
    "Crie um notebook intitulado seu_nome_completo.ipynb (com o seu nome completo) e responda às perguntas justificando sua resposta em todos os casos.\n",
    "\n",
    "As alternativas corretas devem ser indicadas e justificadas. Nas questões que pedem que um código seja escrito, inclua o código bem como comentários explicando seu raciocínio.\n",
    "\n",
    "Nesta avaliação serão considerados apenas soluções que utilizem os conteúdos ensinados em aula. Não use conteúdo extra, mesmo que saiba resolver!\n",
    "\n",
    "Boa avaliação!"
   ]
  },
  {
   "cell_type": "markdown",
   "id": "ed700a24-994a-42d8-9519-e6e5ff52a0c3",
   "metadata": {},
   "source": [
    "1 . Considere o seguinte trecho de código, parte do preenchimento do perfil de investidor do banco:\n",
    "    \n",
    "    i = input('Você sabe o que é uma RENDA FIXA?: ')\n",
    "    \n",
    "Caso o usuário digite na caixa de texto de entrada \"True\", qual será o tipo de dado da variável i?\n",
    "\n",
    "b) str\n"
   ]
  },
  {
   "cell_type": "markdown",
   "id": "a82fc13d-beb9-48fc-98a4-a583797ed725",
   "metadata": {
    "tags": []
   },
   "source": [
    "1 - RESPOSTA CORRETA: B) str"
   ]
  },
  {
   "cell_type": "markdown",
   "id": "8696b2e3-4ffa-4916-93db-237170a72f68",
   "metadata": {},
   "source": [
    "2. Você precisa implementar um código em Python que solicite ao usuário o valor principal (capital) inicial, a taxa de juros por período e o tempo em que o dinheiro é emprestado ou investido. Com base nesses valores, o programa deve calcular os juros simples e o montante total ao final do período. Assuma que temos apenas um único mês de investimento/empréstimo. Assinale a alternativa que corretamente implementa este procedimento:\n",
    "\n",
    "\n",
    "e) juros = principal * taxa\n",
    "montante = principal + juros\n",
    "\n",
    "\n",
    "\n"
   ]
  },
  {
   "cell_type": "markdown",
   "id": "e3f5cf0b-87c2-47db-a03a-734ea44268f3",
   "metadata": {},
   "source": [
    "2 - Resposta correta: e) juros = principal * taxa\n",
    "montante = principal + juros\n"
   ]
  },
  {
   "cell_type": "markdown",
   "id": "ec235784-1a3d-4c84-9e36-1cfd1809f913",
   "metadata": {},
   "source": [
    "3. Na variável clientes_ano temos uma lista de listas, em que cada elemento é uma lista de dois elementos, o primeiro é o nome do cliente cadastrado na plataforma, e o segundo é o ano em que o cadastro foi realizado. Você deseja criar uma nova lista de listas (chamade de clientes_relacionamento), em que cada elemento é uma lista de dois elementos, sendo o primeiro o nome do cliente (como é na lista original), e o segundo é o número de anos em que o cliente está cadastrado na plataforma (considere que o ano atual é 2023). Qual das alternativas a seguir completa corretamente o trecho de código iniciado abaixo, para construir corretamente a lista desejada?\n",
    "\n",
    "clientes_ano = [['Cliente A', 2018], ['Cliente B', 2021]] # Este é apenas um exemplo da lista dos anos\n",
    "clientes_relacionamento = []\n",
    "\n",
    "for lista in clientes_ano:\n",
    "\n",
    "    # o código da alternativa correta deve vir aqui\n",
    "Ao revisar este código, qual das alternativas a seguir produz o mesmo resultado?\n",
    "\n",
    "e) clientes_relacionamento.append([lista[0], 2023 - lista[1]])"
   ]
  },
  {
   "cell_type": "markdown",
   "id": "d242fee8-4cb6-4a85-aa27-16041d3afab4",
   "metadata": {
    "tags": []
   },
   "source": [
    "3 - Resposta correta: e) clientes_relacionamento.append([lista[0], 2023 - lista[1]])"
   ]
  },
  {
   "cell_type": "markdown",
   "id": "1c726540-a19a-462e-b21c-2e0c4ff8b72b",
   "metadata": {},
   "source": [
    "4. Queremos criar uma lista para armazenar os preços dos produtos de determinado banco. Em qual das opções abaixo a variável precos_produtos não é uma lista?\n",
    "\n",
    "a) precos_produtos = []\n",
    "\n",
    "b) precos_produtos = list(\"1 2 3 4\")\n",
    "\n",
    "c) precos_produtos = (1, 1.5, 3.8)\n",
    "\n",
    "d) precos_produtos = [1, 2, 3, 4]\n",
    "\n",
    "e) precos_produtos = list()"
   ]
  },
  {
   "cell_type": "markdown",
   "id": "1934663a-16f2-4c60-b4f8-85899e701488",
   "metadata": {
    "tags": []
   },
   "source": [
    "4 - Resposta correta: c) precos_produtos = (1, 1.5, 3.8)"
   ]
  },
  {
   "cell_type": "markdown",
   "id": "eaee7771-8b07-429e-a3d5-92912bb30dee",
   "metadata": {},
   "source": [
    "5. Em um banco, existe um sistema de alerta na central de suporte que é ativado quando o número de chamados supera 500. Enquanto o volume de chamados permanecer acima desse limite, o sistema exibe uma mensagem indicando quantos chamados ainda precisam ser resolvidos para que o número volte a ficar adequado. Para implementar esta lógica, você começou criando o seguinte código:\n",
    "\n",
    "num_chamados = 780\n",
    "\n",
    "while (num_chamados > 500):\n",
    "\n",
    "    print(f'ALERTA! HÁ UM TOTAL DE {num_chamados}')\n",
    "\n",
    "    print('Você atendeu um chamado!')\n",
    "\n",
    "    print(f\"Faltam {num_chamados - 500} para o nível estar dentro do aceitável!\")\n",
    "\n",
    "    # código da alternativa correta aqui\n",
    "\n",
    "print(\"\\nNão estamos mais em estado de alerta!\")\n",
    "Assinale a alternativa que implementa corretamente a lógica desejada, substituindo o comentário no código acima:\n",
    "\n",
    "c) num_chamados -= 1\n"
   ]
  },
  {
   "cell_type": "markdown",
   "id": "3c9d5599-bf60-42f2-8b9a-85549d77a83f",
   "metadata": {
    "tags": []
   },
   "source": [
    "5 - Resposta correta: c) num_chamados -= 1"
   ]
  },
  {
   "cell_type": "markdown",
   "id": "108b15bb-109b-45ec-b977-fd304e8a80c2",
   "metadata": {},
   "source": [
    "6. Imagine que você está desenvolvendo um aplicativo para planejamento de viagens rodoviárias. Uma das funcionalidades desse aplicativo é ajudar os usuários a estimar o tempo que levarão para chegar a seus destinos. Para tornar o aplicativo mais interativo e educativo, você decide incluir uma seção onde os usuários podem calcular a distância de uma viagem baseando-se na velocidade média esperada do veículo e no tempo de viagem. Faça um código em Python que calcule a distância em km entre duas cidades, completando o template de código a seguir, no qual o tempo em minutos deve ser informado pelo usuário:\n",
    "\n",
    "velocidade = 25 # esta em m/s\n",
    "\n",
    "velocidade_convertida = # código para colocar a velocidade na unidade adequada\n",
    "\n",
    "tempo = # código para receber como input do usuário o tempo em minutos\n",
    "\n",
    "distancia = # código que implementa a lógica da distância em km\n",
    "\n",
    "print(f\"\\nA distância entre os dois locais é {distancia} km!\")\n",
    "Dica 1: o tempo necessário para percorrer uma dada distância à velocidade constante é dado pelo quociente entre a distância e a velocidade.\n",
    "\n",
    "Dica 2: 1 m/s = 3,6 km/h. Atenção às unidades!"
   ]
  },
  {
   "cell_type": "code",
   "execution_count": 24,
   "id": "774356a0-a51a-4ca0-8306-0a3b004190c8",
   "metadata": {
    "tags": []
   },
   "outputs": [
    {
     "name": "stdin",
     "output_type": "stream",
     "text": [
      "Quantos minutos você levou para chegar ao destino?  120\n"
     ]
    },
    {
     "name": "stdout",
     "output_type": "stream",
     "text": [
      "\n",
      "A distância entre os dois locais é 180.0 km!\n"
     ]
    }
   ],
   "source": [
    "velocidade = 25 # esta em m/s\n",
    "\n",
    "velocidade_convertida = velocidade * 3.6\n",
    "\n",
    "tempo = int(input('Quantos minutos você levou para chegar ao destino? '))\n",
    "\n",
    "tempo_hora = float(tempo) /60\n",
    "\n",
    "distancia = velocidade_convertida * tempo_hora\n",
    "\n",
    "print(f\"\\nA distância entre os dois locais é {distancia} km!\")\n"
   ]
  },
  {
   "cell_type": "markdown",
   "id": "368c83a3-d414-49b9-a368-ebb3acd4532f",
   "metadata": {},
   "source": [
    "7. Em um banco, é importante que tenhamos um registro de todos os clientes, sejam correntistas ou não, para que seja possível, por exemplo, realizar a comunicação com eles enviando ofertas de produtos.\n",
    "\n",
    "Para começar a prototipar esta funcionalidade, você deve criar um programa em Python que leia diversos números inteiros e insira todos em uma lista (esses números são os identificadores dos clientes). A cada solicitação de número, pergunte ao usuário se deseja inserir outro número: tendo como resposta 'S' para inserir mais um; ou 'N' caso queira terminar. É possível que o mesmo número seja digitado mais de uma vez (isso pode representar o mesmo cliente fazendo mais de um pedido). Após construir a lista, mostre:\n",
    "\n",
    "a) todos os números digitados na ordem em que foram inseridos\n",
    "\n",
    "b) todos os números digitados em ordem crescente\n",
    "\n",
    "c) a média destes valores\n",
    "\n",
    "d) apenas os números pares\n",
    "\n",
    "e) apenas os números ímpares\n",
    "\n",
    "f) apenas os números repetidos\n",
    "\n",
    "Obs.: O usuário obrigatoriamente digitará as letras S e N, contudo não necessariamente de forma padronizada."
   ]
  },
  {
   "cell_type": "code",
   "execution_count": 2,
   "id": "3075d97c-f4c8-4c37-b00d-57826ad4357e",
   "metadata": {
    "tags": []
   },
   "outputs": [
    {
     "name": "stdin",
     "output_type": "stream",
     "text": [
      "Digite um numero inteiro:  5\n",
      "Deseja continuar? [S] ou [N] s\n",
      "Digite um numero inteiro:  6\n",
      "Deseja continuar? [S] ou [N] s\n",
      "Digite um numero inteiro:  2\n",
      "Deseja continuar? [S] ou [N] n\n"
     ]
    },
    {
     "name": "stdout",
     "output_type": "stream",
     "text": [
      "Todos os numeros digitados foram: ['5', '6', '2']\n",
      "Os numeros digitados em ordem crescente são:  ['2', '5', '6']\n",
      "A média dos valores é:  4.33\n",
      "Apenas os numeros pares são: ['2', '6']\n",
      "Apenas os numeros impares são: ['5']\n"
     ]
    }
   ],
   "source": [
    "ident_cliente = []\n",
    "\n",
    "while True:\n",
    "    num_inteiro = input('Digite um numero inteiro: ')\n",
    "    if not num_inteiro.isdigit():\n",
    "        print('Digite apenas numeros: ')\n",
    "        continue\n",
    "\n",
    "    ident_cliente.append(num_inteiro)\n",
    "\n",
    "    continua = input('Deseja continuar? [S] ou [N]').upper()\n",
    "\n",
    "    if continua == 'N':\n",
    "        break\n",
    "\n",
    "# A ) Apresenta todos os numeros digitados:\n",
    "print(f'Todos os numeros digitados foram: {ident_cliente}')\n",
    "\n",
    "#b) todos os números digitados em ordem crescente\n",
    "ident_cliente.sort()\n",
    "print('Os numeros digitados em ordem crescente são: ', ident_cliente)\n",
    "\n",
    "#c) a média destes valores\n",
    "soma = 0\n",
    "\n",
    "for ident in ident_cliente:\n",
    "    soma += int(ident)\n",
    "\n",
    "media = soma / len(ident_cliente)\n",
    "print(f'A média dos valores é: {media: .2f}')\n",
    "\n",
    "#d) apenas os números pares\n",
    "pares = []\n",
    "\n",
    "for par in ident_cliente:\n",
    "    if int(par) % 2== 0:\n",
    "        pares.append(par)\n",
    "\n",
    "print(f'Apenas os numeros pares são: {pares}')\n",
    "\n",
    "\n",
    "#e) apenas os números ímpares\n",
    "impares = []\n",
    "\n",
    "for impar in ident_cliente:\n",
    "    if int(impar) % 2!= 0:\n",
    "        impares.append(impar)\n",
    "\n",
    "print(f'Apenas os numeros impares são: {impares}')"
   ]
  },
  {
   "cell_type": "markdown",
   "id": "9db4c654-9cbf-4c55-b944-9c4d64a8591d",
   "metadata": {},
   "source": [
    "8. Escreva um código em Python que recebe um número (que possa ter casas decimais) e a escala de temperatura em que este valor se encontra e para qual ele deseja converter (Celsius, Kelvin ou Fahrenheit). Tanto na escala em que se encontra quanto para a que deseja converter, utilize as letras iniciais como entrada: Celsius - 'C', Kelvin - 'K' ou Fahrenheit - 'F'.\n",
    "\n",
    "Seu código deve solicitar ao usuário as informações necessárias para realizar a conversão de temperatura (temperatura, escala_original, escala_convertida), de acordo com o template abaixo.\n",
    "\n",
    "temperatura = # código para receber o valor numérico da temperatura desejada\n",
    "\n",
    "escala_original = # código para receber a escala original da temperatura informada\n",
    "\n",
    "escala_convertida = # código para receber a escala para a qual deseja-se converter a temperatura\n",
    "Implemente abaixo toda a lógica de conversão de temperaturas, bem como as validações necessárias.\n",
    "\n",
    "Importante: o programa deve trabalhar apenas com as 3 escalas supracitadas! Então, não deixe de fazer as validações necessárias. Além disso, por definição, não existem temperaturas em Kelvin abaixo de zero (o valor zero pode existir), portanto verifique também esta condição para que sejam feitas conversões válidas!\n",
    "\n",
    "Dica: as equações de conversão entre as escalas são as seguintes:\n",
    "\n",
    "Celsius <> Fahrenheit: \\color{white}{\\frac{C}{5} = \\frac{F - 32}{9}}\n",
    "\n",
    "Celsius <> Kelvin:  \\color{white}{C = K - 273}\n",
    "\n",
    "Kelvin <> Fahrenheit:  \\color{white}{\\frac{K - 273}{5} = \\frac{F - 32}{9}}"
   ]
  },
  {
   "cell_type": "code",
   "execution_count": 5,
   "id": "95e9d6eb-1397-4afd-a1bc-0aee2993ab11",
   "metadata": {
    "tags": []
   },
   "outputs": [
    {
     "name": "stdin",
     "output_type": "stream",
     "text": [
      "Qual a temperatura (apenas numeros):  9805\n",
      "Qual escala está esta temperatura? A) [C]elsius B) [F]ahrenheit C) [K]elvin (digite apenas as iniciais):  f\n",
      "Deseja converter para: A) [C]elsius B) [F]ahrenheit C) [K]elvin (digite apenas as iniciais):  k\n"
     ]
    },
    {
     "name": "stdout",
     "output_type": "stream",
     "text": [
      "A temperatura é 5581.111111111111 graus Kelvin.\n"
     ]
    }
   ],
   "source": [
    "temp = int(input('Qual a temperatura (apenas numeros): '))\n",
    "escala = input('Qual escala está esta temperatura? A) [C]elsius B) [F]ahrenheit C) [K]elvin (digite apenas as iniciais): ')\n",
    "escala = escala.upper()\n",
    "converter = input ('Deseja converter para: A) [C]elsius B) [F]ahrenheit C) [K]elvin (digite apenas as iniciais): ')\n",
    "converter = converter.upper()\n",
    "\n",
    "if converter == 'C':\n",
    "    if escala == 'C':\n",
    "        print(f'A temperatura é {temp} graus Celcius.')\n",
    "    elif escala == 'F':\n",
    "        temp = (temp - 32) / 1.8\n",
    "        print(f'A temperatura é {temp} graus Celcius.')\n",
    "    elif escala == 'K':\n",
    "        temp -= 273\n",
    "        if temp < 0:\n",
    "            temp = 0\n",
    "        print(f'A temperatura é {temp} graus Celcius.')\n",
    "    else:\n",
    "        print('Você escolheu a escala errada, digite apenas as iniciais.')\n",
    "\n",
    "\n",
    "elif converter == 'F':\n",
    "    if escala == 'C':\n",
    "        temp = temp * 1.8 + 32\n",
    "        print(f'A temperatura é {temp} graus Fahrenheit.')\n",
    "    elif escala == 'F':\n",
    "        print(f'A temperatura é {temp} graus Fahrenheit.')\n",
    "    elif escala == 'K':\n",
    "        temp = 1.8 * (temp - 273) + 32\n",
    "        if temp < 0:\n",
    "            temp = 0\n",
    "        print(f'A temperatura é {temp} graus Fahrenheit.')\n",
    "    else:\n",
    "        print('Você escolheu a escala errada, digite apenas as iniciais.')\n",
    "    \n",
    "elif converter == \"K\":\n",
    "    if escala == \"C\":\n",
    "        temp += 273\n",
    "        if temp < 0:\n",
    "            temp = 0 \n",
    "        print(f'A temperatura é {temp} graus Kelvin.')\n",
    "    elif escala == \"F\":\n",
    "        temp +=273\n",
    "        temp = (temp -32) / 1.8\n",
    "        if temp < 0:\n",
    "            temp = 0\n",
    "        print(f'A temperatura é {temp} graus Kelvin.')\n",
    "    elif escala == \"K\":\n",
    "        print(f'A temperatura é {temp} graus Kelvin.')\n",
    "    else:\n",
    "        print('Você escolheu a escala errada, digite apenas as iniciais.')    \n",
    "\n",
    "else:\n",
    "    print('Você escolheu a conversão errada, digite apenas as iniciais.')"
   ]
  },
  {
   "cell_type": "markdown",
   "id": "49bcf55f-3f11-4e7d-889b-1d51df9d3346",
   "metadata": {},
   "source": [
    "9. Um grande banco deseja saber quais são seus produtos mais vendidos. Em uma lista, são registrados os nomes dos produtos, na ordem em que eles são vendidos (portanto, há elementos repetidos nesta lista). Faça um programa que exibe na tela cada um dos produtos na lista de input, e a quantidade em que eles foram vendidos (separados por um traço), de modo que teremos uma mensagem em cada linha. Os produtos devem ser exibidos em ordem alfabética.\n",
    "\n",
    "Ex.: para a lista produtos = [\"Crediário\", \"Consórcio\", \"Consórcio\", \"Financiamento\", \"Consórcio\", \"Crediário\"]\n",
    "\n",
    "Obs: Existem outros produtos além dos da lista acima, seu código deve contemplar outras possibilidades.\n",
    "\n",
    "Devemos ter as seguintes mensagens exibidas na tela:\n",
    "\n",
    "Consórcio - 3  \n",
    "Crediário - 2  \n",
    "Financiamento - 1"
   ]
  },
  {
   "cell_type": "code",
   "execution_count": 1,
   "id": "45e5fc36-3fd2-4829-9ed6-c52bf46266e2",
   "metadata": {
    "tags": []
   },
   "outputs": [
    {
     "name": "stdin",
     "output_type": "stream",
     "text": [
      "Deseja registrar uma venda? [s] [n]:  S\n",
      "Qual produto? [1]Consórcio  [2]Crediario  [3]Financiamento:  1\n",
      "Deseja registrar uma venda? [s] [n]:  s\n",
      "Qual produto? [1]Consórcio  [2]Crediario  [3]Financiamento:  1\n",
      "Deseja registrar uma venda? [s] [n]:  s\n",
      "Qual produto? [1]Consórcio  [2]Crediario  [3]Financiamento:  2\n",
      "Deseja registrar uma venda? [s] [n]:  s\n",
      "Qual produto? [1]Consórcio  [2]Crediario  [3]Financiamento:  3\n",
      "Deseja registrar uma venda? [s] [n]:  s3\n"
     ]
    },
    {
     "name": "stdout",
     "output_type": "stream",
     "text": [
      "ERRO! Digite Apenas S para sim ou N para não\n"
     ]
    },
    {
     "name": "stdin",
     "output_type": "stream",
     "text": [
      "Deseja registrar uma venda? [s] [n]:  s\n",
      "Qual produto? [1]Consórcio  [2]Crediario  [3]Financiamento:  3\n",
      "Deseja registrar uma venda? [s] [n]:  s\n",
      "Qual produto? [1]Consórcio  [2]Crediario  [3]Financiamento:  4\n"
     ]
    },
    {
     "name": "stdout",
     "output_type": "stream",
     "text": [
      "Opção Invalida. escolha 1. 2 ou 3.\n"
     ]
    },
    {
     "name": "stdin",
     "output_type": "stream",
     "text": [
      "Deseja registrar uma venda? [s] [n]:  s\n",
      "Qual produto? [1]Consórcio  [2]Crediario  [3]Financiamento:  1\n",
      "Deseja registrar uma venda? [s] [n]:  s\n",
      "Qual produto? [1]Consórcio  [2]Crediario  [3]Financiamento:  2\n",
      "Deseja registrar uma venda? [s] [n]:  n\n"
     ]
    },
    {
     "name": "stdout",
     "output_type": "stream",
     "text": [
      "Consórcio - 6\n",
      "Crediário - 4\n",
      "Financiamento - 3\n"
     ]
    }
   ],
   "source": [
    "produtos = [\"Crediário\", \"Consórcio\", \"Consórcio\", \"Financiamento\", \"Consórcio\", \"Crediário\"]\n",
    "\n",
    "#Deseja adicionar itens à lista?\n",
    "while True:\n",
    "    registro = input('Deseja registrar uma venda? [s] [n]: ').upper()\n",
    "\n",
    "    if registro == \"S\":\n",
    "        venda = input('Qual produto? [1]Consórcio  [2]Crediario  [3]Financiamento: ')\n",
    "        if venda == \"1\":\n",
    "            produtos.append(\"Consórcio\")\n",
    "        elif venda == \"2\":\n",
    "            produtos.append(\"Crediário\")\n",
    "        elif venda == \"3\":\n",
    "            produtos.append(\"Financiamento\")\n",
    "        else:\n",
    "            print('Opção Invalida. escolha 1. 2 ou 3.')\n",
    "            continue\n",
    "\n",
    "\n",
    "    elif registro == \"N\":\n",
    "        break\n",
    "    else:\n",
    "        print('ERRO! Digite Apenas S para sim ou N para não')\n",
    "\n",
    "prod_isolado = []\n",
    "vendas = []\n",
    "\n",
    "for produto in produtos:\n",
    "    if produto not in prod_isolado:\n",
    "        prod_isolado.append(produto)\n",
    "        vendas.append(1)\n",
    "    else:\n",
    "        index = prod_isolado.index(produto)\n",
    "        vendas[index] += 1\n",
    "\n",
    "for i in range(len(prod_isolado)):\n",
    "    for j in range(0, len(prod_isolado)-i-1):\n",
    "        if prod_isolado[j] > prod_isolado[j+1]:\n",
    "\n",
    "            prod_isolado[j], prod_isolado[j+1] = prod_isolado[j+1], prod_isolado[j]\n",
    "\n",
    "            vendas[j], vendas[j+1] = vendas[j+1], vendas[j]\n",
    "\n",
    "for i in range(len(prod_isolado)):\n",
    "    print(f\"{prod_isolado[i]} - {vendas[i]}\")"
   ]
  },
  {
   "cell_type": "markdown",
   "id": "8cd53b8c-4a13-4a1c-968f-ea6a9107a0cd",
   "metadata": {},
   "source": [
    "10. Um banco está analisando o desempenho de um investimento ao longo de um mês. Eles têm uma lista de valores de fechamento diários deste investimento e querem calcular uma média móvel de 7 dias para entender melhor as tendências no curto prazo. A média móvel de 7 dias é uma forma comum de suavizar flutuações diárias, dando ao banco uma visão mais clara das tendências de desempenho do investimento.\n",
    "\n",
    "Seu objetivo é desenvolver um código em Python que processe a lista de valores fornecida. O código deve calcular e retornar uma nova lista contendo a média móvel de 7 dias para cada período possível dentro dos dados fornecidos.\n",
    "\n",
    "Dica: A média móvel em um determinado dia é calculada como a média dos valores de fechamento dos 7 dias anteriores, incluindo o dia atual.\n",
    "\n",
    "valores_dos_fechamentos = [\n",
    "    156.89, 155.16, 148.41, 145.18, 150.23, 148.10, 155.68,\n",
    "    146.07, 149.53, 151.67, 158.16, 150.09, 145.64, 155.12,\n",
    "    152.37, 145.01, 158.19, 159.66, 156.20, 158.04, 146.20,\n",
    "    154.60, 157.98, 153.68, 149.44, 142.01, 148.68, 152.22,\n",
    "    158.26, 159.33\n",
    "]"
   ]
  },
  {
   "cell_type": "markdown",
   "id": "6de915ed-6a32-479e-ae90-1f6796f641e3",
   "metadata": {},
   "source": [
    "não deu tempo professor!!!! =("
   ]
  },
  {
   "cell_type": "code",
   "execution_count": null,
   "id": "9ef3014b-2f9b-47f5-8621-8eb302ea9f34",
   "metadata": {},
   "outputs": [],
   "source": []
  },
  {
   "cell_type": "code",
   "execution_count": null,
   "id": "09eb882d-1f9f-4b39-9e2e-83b170caafe9",
   "metadata": {},
   "outputs": [],
   "source": []
  },
  {
   "cell_type": "code",
   "execution_count": null,
   "id": "fa28955c-228f-4e92-9daa-9bac1af63c5f",
   "metadata": {},
   "outputs": [],
   "source": []
  },
  {
   "cell_type": "code",
   "execution_count": null,
   "id": "2ab66498-e9e3-47f8-aef4-6c7108b315fa",
   "metadata": {},
   "outputs": [],
   "source": []
  },
  {
   "cell_type": "code",
   "execution_count": null,
   "id": "e8a427cb-ecce-4a27-9060-819c10259e6f",
   "metadata": {},
   "outputs": [],
   "source": []
  },
  {
   "cell_type": "code",
   "execution_count": null,
   "id": "2e8a7c22-79b3-4858-82ef-a465762f09d8",
   "metadata": {},
   "outputs": [],
   "source": []
  },
  {
   "cell_type": "code",
   "execution_count": null,
   "id": "b0236a9a-4144-46fd-932a-c2966c1dd180",
   "metadata": {},
   "outputs": [],
   "source": []
  },
  {
   "cell_type": "code",
   "execution_count": null,
   "id": "d65f3e7a-6683-41d9-8c01-8e15cf546b60",
   "metadata": {},
   "outputs": [],
   "source": []
  }
 ],
 "metadata": {
  "kernelspec": {
   "display_name": "Python 3 (ipykernel)",
   "language": "python",
   "name": "python3"
  },
  "language_info": {
   "codemirror_mode": {
    "name": "ipython",
    "version": 3
   },
   "file_extension": ".py",
   "mimetype": "text/x-python",
   "name": "python",
   "nbconvert_exporter": "python",
   "pygments_lexer": "ipython3",
   "version": "3.11.5"
  }
 },
 "nbformat": 4,
 "nbformat_minor": 5
}
