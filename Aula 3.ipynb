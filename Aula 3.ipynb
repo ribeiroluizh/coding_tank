{
 "cells": [
  {
   "cell_type": "markdown",
   "id": "cd16aa52",
   "metadata": {},
   "source": [
    "<div style=\"background-color: lightgreen; padding: 18px;\">\n",
    "    <h1> Coding Tank\n",
    "</div>"
   ]
  },
  {
   "cell_type": "markdown",
   "id": "38ce92e4",
   "metadata": {},
   "source": [
    "<div style=\"background-color: lightblue; padding: 10px;\">\n",
    "    <h2> Tópicos da aula - AULA 3\n",
    "</div>\n",
    "\n",
    "- Métodos de string\n",
    "- Estruturas de repetição\n",
    "- Loop while"
   ]
  },
  {
   "cell_type": "markdown",
   "id": "ec4a441b",
   "metadata": {},
   "source": [
    "#### OBSERVAÇÃO: é permitido utilizar **todos** os métodos de string na prova/avaliação!"
   ]
  },
  {
   "cell_type": "code",
   "execution_count": 2,
   "id": "d3aaa59a",
   "metadata": {},
   "outputs": [
    {
     "data": {
      "text/plain": [
       "'pum textoaum textolum textoaum textovum textorum textoa'"
      ]
     },
     "execution_count": 2,
     "metadata": {},
     "output_type": "execute_result"
    }
   ],
   "source": [
    "\"um texto\".join(\"palavra\")"
   ]
  },
  {
   "cell_type": "code",
   "execution_count": 30,
   "id": "0a243343",
   "metadata": {},
   "outputs": [
    {
     "data": {
      "text/plain": [
       "'2-3-4'"
      ]
     },
     "execution_count": 30,
     "metadata": {},
     "output_type": "execute_result"
    }
   ],
   "source": [
    "\"-\".join(\"234\")"
   ]
  },
  {
   "cell_type": "code",
   "execution_count": 4,
   "id": "3d7098bf",
   "metadata": {},
   "outputs": [],
   "source": [
    "texto = 'O Botafogo é cavalo paraguaio.'"
   ]
  },
  {
   "cell_type": "code",
   "execution_count": 35,
   "id": "47d1cf1e",
   "metadata": {},
   "outputs": [
    {
     "data": {
      "text/plain": [
       "('O', 'Botafogo')"
      ]
     },
     "execution_count": 35,
     "metadata": {},
     "output_type": "execute_result"
    }
   ],
   "source": [
    "#Acessando partes da string\n",
    "\n",
    "texto[0], texto[2:10]"
   ]
  },
  {
   "cell_type": "code",
   "execution_count": null,
   "id": "cb48166f",
   "metadata": {},
   "outputs": [],
   "source": [
    "texto.index('é')\n",
    "texto.find('Botafogo')"
   ]
  },
  {
   "cell_type": "code",
   "execution_count": 15,
   "id": "3a43f2c8",
   "metadata": {},
   "outputs": [
    {
     "data": {
      "text/plain": [
       "8"
      ]
     },
     "execution_count": 15,
     "metadata": {},
     "output_type": "execute_result"
    }
   ],
   "source": [
    "#Descobrindo o tamanho de uma string: len()\n",
    "len('Botafogo')"
   ]
  },
  {
   "cell_type": "code",
   "execution_count": null,
   "id": "6a4bee07",
   "metadata": {},
   "outputs": [],
   "source": [
    "-5  -4  -3  -2  -1\n",
    " 0   1   2   3   4\n",
    "'m   e   n   o   r'"
   ]
  },
  {
   "cell_type": "code",
   "execution_count": 25,
   "id": "ca2a979e",
   "metadata": {},
   "outputs": [
    {
     "data": {
      "text/plain": [
       "('en', 'en')"
      ]
     },
     "execution_count": 25,
     "metadata": {},
     "output_type": "execute_result"
    }
   ],
   "source": [
    "'menor'[-4:-2], 'menor'[1:3]"
   ]
  },
  {
   "cell_type": "code",
   "execution_count": 32,
   "id": "9e2f3236",
   "metadata": {},
   "outputs": [
    {
     "data": {
      "text/plain": [
       "'O Atlético Mineiro é cavalo paraguaio.'"
      ]
     },
     "execution_count": 32,
     "metadata": {},
     "output_type": "execute_result"
    }
   ],
   "source": [
    "texto.replace('Botafogo','Atlético Mineiro')"
   ]
  },
  {
   "cell_type": "code",
   "execution_count": null,
   "id": "9488b1d3",
   "metadata": {},
   "outputs": [],
   "source": [
    "#Estruturas de repetição\n",
    "while teste:\n",
    "    bloco"
   ]
  },
  {
   "cell_type": "code",
   "execution_count": 51,
   "id": "64e9a991",
   "metadata": {},
   "outputs": [
    {
     "name": "stdout",
     "output_type": "stream",
     "text": [
      "Digite a senha (8 dígitos): 12\n",
      "ERRO: a senha precisa ter 8 dígitos!\n",
      "Você mais 2 tentivas.\n",
      "Digite a senha (8 dígitos): 222\n",
      "ERRO: a senha precisa ter 8 dígitos!\n",
      "Você mais 1 tentivas.\n",
      "Digite a senha (8 dígitos): 12\n",
      "ERRO: a senha precisa ter 8 dígitos!\n",
      "Você mais 0 tentivas.\n",
      "Digite a senha (8 dígitos): 2\n",
      "Extrapolou o número de tentativas!\n"
     ]
    }
   ],
   "source": [
    "#Verificando se a senha tem 8 algarismos. Caso contrário, \n",
    "#pedir uma nova senha.\n",
    "\n",
    "senha = input('Digite a senha (8 dígitos): ')\n",
    "tentativas = 3\n",
    "\n",
    "while len(senha) != 8 or not senha.isnumeric():\n",
    "    tentativas = tentativas - 1\n",
    "    print('ERRO: a senha precisa ter 8 algarismos!')\n",
    "    print(f'Você mais {tentativas} tentivas.')\n",
    "    senha = input('Digite a senha (8 dígitos): ')\n",
    "    \n",
    "    if tentativas == 0:\n",
    "        print('Extrapolou o número de tentativas!')\n",
    "        break\n",
    "else:\n",
    "    print('Senha válida!')\n",
    "    "
   ]
  },
  {
   "cell_type": "code",
   "execution_count": 48,
   "id": "5d624a10",
   "metadata": {},
   "outputs": [
    {
     "data": {
      "text/plain": [
       "True"
      ]
     },
     "execution_count": 48,
     "metadata": {},
     "output_type": "execute_result"
    }
   ],
   "source": [
    "\"124\".isnumeric()"
   ]
  },
  {
   "cell_type": "code",
   "execution_count": 66,
   "id": "86e79591",
   "metadata": {},
   "outputs": [
    {
     "name": "stdout",
     "output_type": "stream",
     "text": [
      "0\n",
      "Programa continua aqui...\n"
     ]
    }
   ],
   "source": [
    "contador = 0\n",
    "\n",
    "while contador < 5:\n",
    "    print(contador)\n",
    "    contador = contador + 1\n",
    "    \n",
    "    break\n",
    "    if contador == 3:\n",
    "        print('Sou 3.')\n",
    "        break\n",
    "\n",
    "print('Programa continua aqui...')"
   ]
  },
  {
   "cell_type": "code",
   "execution_count": 63,
   "id": "ec825e2f",
   "metadata": {},
   "outputs": [
    {
     "data": {
      "text/plain": [
       "'O Santos fez 32 pontos'"
      ]
     },
     "execution_count": 63,
     "metadata": {},
     "output_type": "execute_result"
    }
   ],
   "source": [
    "#f-string\n",
    "pontuacao = 32\n",
    "f'O Santos fez {pontuacao} pontos'"
   ]
  },
  {
   "cell_type": "code",
   "execution_count": 67,
   "id": "e6762dc2",
   "metadata": {},
   "outputs": [
    {
     "name": "stdout",
     "output_type": "stream",
     "text": [
      "cont1: 0\n",
      "cont2: 0\n",
      "cont1: 1\n",
      "cont2: 0\n",
      "cont1: 2\n",
      "cont2: 0\n"
     ]
    }
   ],
   "source": [
    "cont1 = 0\n",
    "cont2 = 0\n",
    "\n",
    "while cont1 < 3:\n",
    "    print('cont1:',cont1)\n",
    "    while cont2 < 4:\n",
    "        print('cont2:',cont2)\n",
    "        cont2 = cont2 + 1\n",
    "        break\n",
    "    cont1 = cont1 + 1"
   ]
  },
  {
   "cell_type": "markdown",
   "id": "8106e9ba",
   "metadata": {},
   "source": [
    "##### Exercícios"
   ]
  },
  {
   "cell_type": "markdown",
   "id": "fb783ede",
   "metadata": {},
   "source": [
    "Escreva um programa que solicite um número inteiro e imprima na tela todos os números de 1 até o número digitado, separado por espaços.  \n",
    "_Exemplo_  \n",
    "número digitado: 5  \n",
    "resultado esperado: 1 2 3 4 5"
   ]
  },
  {
   "cell_type": "code",
   "execution_count": null,
   "id": "4a2aad09",
   "metadata": {
    "tags": []
   },
   "outputs": [
    {
     "name": "stdin",
     "output_type": "stream",
     "text": [
      "digite um numero:  90\n"
     ]
    }
   ],
   "source": [
    "numero = int(input('digite um numero: '))\n",
    "i = 1\n",
    "texto = ''\n",
    "\n",
    "while i <= numero:\n",
    "    if i > 1:\n",
    "        texto += ' '\n",
    "    texto += str(i)\n",
    "    i += 1\n",
    "else:\n",
    "    print('tem alguma coisa errada.')\n",
    "    \n",
    "print(texto)\n"
   ]
  },
  {
   "cell_type": "markdown",
   "id": "f4d22504",
   "metadata": {},
   "source": [
    "Faça um programa que mostre o fatorial de um número digitado.  \n",
    "_Exemplo_  \n",
    "número digitado: 5  \n",
    "resultado esperado: 120"
   ]
  },
  {
   "cell_type": "code",
   "execution_count": 1,
   "id": "f5aed1ab",
   "metadata": {
    "tags": []
   },
   "outputs": [
    {
     "name": "stdin",
     "output_type": "stream",
     "text": [
      "Fatorial de:  10\n"
     ]
    },
    {
     "name": "stdout",
     "output_type": "stream",
     "text": [
      "3628800\n"
     ]
    }
   ],
   "source": [
    "numero = int(input(\"Fatorial de: \") )\n",
    "\n",
    "resultado=1\n",
    "count=1\n",
    "\n",
    "while count <= numero:\n",
    "    resultado *= count\n",
    "    count += 1\n",
    "\n",
    "print(resultado)"
   ]
  },
  {
   "cell_type": "markdown",
   "id": "c907deb2",
   "metadata": {},
   "source": [
    "Faça um programa que imprima a tabuada do 9 na tela (entre 1 e 10). Insira a conta, por exemplo, 9 * 1 = 9, sendo cada um dos valores em uma linha diferente."
   ]
  },
  {
   "cell_type": "code",
   "execution_count": 3,
   "id": "099f51cb-1a43-4bde-ad24-c29d986161bf",
   "metadata": {
    "tags": []
   },
   "outputs": [
    {
     "name": "stdin",
     "output_type": "stream",
     "text": [
      "Digite um numero para saber a tabuada:  5\n"
     ]
    },
    {
     "name": "stdout",
     "output_type": "stream",
     "text": [
      "5 x 1 = 5\n",
      "5 x 2 = 10\n",
      "5 x 3 = 15\n",
      "5 x 4 = 20\n",
      "5 x 5 = 25\n",
      "5 x 6 = 30\n",
      "5 x 7 = 35\n",
      "5 x 8 = 40\n",
      "5 x 9 = 45\n",
      "5 x 10 = 50\n"
     ]
    }
   ],
   "source": [
    "numero = int(input('Digite um numero para saber a tabuada: '))\n",
    "mult= 0\n",
    "while mult <10:\n",
    "    mult+= 1\n",
    "    res = numero * mult\n",
    "    print(f'{numero} x {mult} = {res}')"
   ]
  },
  {
   "cell_type": "markdown",
   "id": "7463379b",
   "metadata": {},
   "source": [
    "Faça um programa que peça para o usuário digitar a idade, o salário e o sexo de uma pessoa até que as entradas digitadas sejam válidas.  \n",
    "  \n",
    "a. Idade: entre 0 e 150  \n",
    "b. Salário: maior que 0  \n",
    "c. Gênero: M, F ou Outro  \n",
    "  \n",
    "Por último imprima os dados recebidos do usuário."
   ]
  },
  {
   "cell_type": "code",
   "execution_count": 4,
   "id": "78ea8d53-6f8c-4f55-b40d-0914a7ed0cd0",
   "metadata": {
    "tags": []
   },
   "outputs": [
    {
     "name": "stdin",
     "output_type": "stream",
     "text": [
      "Digite sua idade:  32\n",
      "Qual seu salario:  -5\n",
      "Qual seu genero? [M]asculino, [F]eminino, [O]utro h\n",
      "Digite sua idade:  32\n",
      "Qual seu salario:  -5\n",
      "Qual seu genero? [M]asculino, [F]eminino, [O]utro h\n",
      "Digite sua idade:  32\n",
      "Qual seu salario:  -5\n",
      "Qual seu genero? [M]asculino, [F]eminino, [O]utro k\n"
     ]
    },
    {
     "name": "stdout",
     "output_type": "stream",
     "text": [
      "você atingiu 3 tentativas\n"
     ]
    }
   ],
   "source": [
    "idade = -1\n",
    "salario = -1\n",
    "genero = ''\n",
    "contador = 0\n",
    "\n",
    "while (idade <0 or idade > 150) or (salario < 0) or (genero != 'M' and genero != 'F' and genero != 'O'):\n",
    "    contador +=1\n",
    "    idade = int(input('Digite sua idade: '))\n",
    "    salario = int(input('Qual seu salario: '))\n",
    "    genero = input('Qual seu genero? [M]asculino, [F]eminino, [O]utro').upper()\n",
    "    if contador > 10:\n",
    "        break\n",
    "else:\n",
    "    print(f'idade: {idade}, salario: {salario}, genero: {genero}.')"
   ]
  },
  {
   "cell_type": "markdown",
   "id": "23588c66",
   "metadata": {},
   "source": [
    "Faça um programa que recebe uma string e verifica se está na estrutura de uma CPF: 'XXX.XXX.XXX-XX'."
   ]
  },
  {
   "cell_type": "code",
   "execution_count": 7,
   "id": "16eb5916-28bb-459a-8013-55a08618a50e",
   "metadata": {
    "tags": []
   },
   "outputs": [
    {
     "name": "stdin",
     "output_type": "stream",
     "text": [
      "Digite seu CPF (xxx.xxx.xxx-xx):  395.213.858-47\n"
     ]
    },
    {
     "name": "stdout",
     "output_type": "stream",
     "text": [
      "cpf valido\n"
     ]
    }
   ],
   "source": [
    "cpf = input('Digite seu CPF (xxx.xxx.xxx-xx): ')\n",
    "\n",
    "if len(cpf) != 14:\n",
    "    print('CPF invalido')\n",
    "elif cpf[3] !='.' or cpf[7] !='.' or cpf[11] != '-':\n",
    "    print('CPF invalido')\n",
    "else:\n",
    "    print('cpf valido')\n"
   ]
  },
  {
   "cell_type": "code",
   "execution_count": null,
   "id": "d9309f3d-8a13-42cb-b678-bf9c52dad204",
   "metadata": {},
   "outputs": [],
   "source": []
  },
  {
   "cell_type": "code",
   "execution_count": null,
   "id": "860c1d22-5ece-473a-817a-568d8acf0590",
   "metadata": {},
   "outputs": [],
   "source": []
  }
 ],
 "metadata": {
  "kernelspec": {
   "display_name": "Python 3 (ipykernel)",
   "language": "python",
   "name": "python3"
  },
  "language_info": {
   "codemirror_mode": {
    "name": "ipython",
    "version": 3
   },
   "file_extension": ".py",
   "mimetype": "text/x-python",
   "name": "python",
   "nbconvert_exporter": "python",
   "pygments_lexer": "ipython3",
   "version": "3.11.5"
  }
 },
 "nbformat": 4,
 "nbformat_minor": 5
}
