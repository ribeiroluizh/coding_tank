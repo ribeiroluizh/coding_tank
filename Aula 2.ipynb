{
 "cells": [
  {
   "cell_type": "markdown",
   "id": "038ff727",
   "metadata": {},
   "source": [
    "<div style=\"background-color: lightgreen; padding: 18px;\">\n",
    "    <h1> Coding Tank \n",
    "</div>"
   ]
  },
  {
   "cell_type": "markdown",
   "id": "d46dfd57",
   "metadata": {},
   "source": [
    "<div style=\"background-color: lightblue; padding: 10px;\">\n",
    "    <h2> Tópicos da aula - AULA 2\n",
    "</div>\n",
    "\n",
    "- Operador lógico\n",
    "- Estrutura condicional e controle de fluxo\n",
    "- Comando if\n",
    "- Comando else\n",
    "- Comando elif"
   ]
  },
  {
   "cell_type": "code",
   "execution_count": 1,
   "id": "0dd67fe7",
   "metadata": {},
   "outputs": [],
   "source": [
    "#Booleanos\n",
    "\n",
    "teste1 = True #(False)\n",
    "teste2 = False"
   ]
  },
  {
   "cell_type": "code",
   "execution_count": 16,
   "id": "27cb858d",
   "metadata": {},
   "outputs": [
    {
     "data": {
      "text/plain": [
       "(True, False)"
      ]
     },
     "execution_count": 16,
     "metadata": {},
     "output_type": "execute_result"
    }
   ],
   "source": [
    "#Operadores lógicos: and, or, not\n",
    "\n",
    "not False, not True"
   ]
  },
  {
   "cell_type": "markdown",
   "id": "bf5885da",
   "metadata": {},
   "source": [
    "**Operadores lógicos**\n",
    "\n",
    "|     Operador    |                            Definição                           |     Operação    |\n",
    "|:---------------:|:--------------------------------------------------------------:|:---------------:|\n",
    "|        and      |     Retorna   True se ambas as afirmações forem verdadeiras    |         e       |\n",
    "|        or       |       Retorna   True se uma das afirmações for verdadeira      |        ou       |\n",
    "|        not      |          retorna   Falso se o resultado for verdadeiro         |        não      |\n",
    "\n",
    "\n",
    "**AND** é uma conjunção lógica e o **OR** é uma disjunção lógica. O **not** é a negação lógica.\n",
    "\n",
    "| *A*   | *B*   | *A and B* | *A or B* | *not A* |\n",
    "|-------|-------|-----------|----------|---------|\n",
    "| False | False | False     | False    | True    |\n",
    "| False | True  | False     | True     | True    |\n",
    "| True  | False | False     | True     | False   |\n",
    "| True  | True  | True      | True     | False   |"
   ]
  },
  {
   "cell_type": "code",
   "execution_count": null,
   "id": "27d871fd",
   "metadata": {},
   "outputs": [],
   "source": [
    "#Truthy/Falsy\n",
    "#Falso\n",
    "bool --> False\n",
    "int --> 0\n",
    "float --> 0.0\n",
    "string --> ''\n",
    "list --> []\n",
    "dict --> {}\n",
    "tuple --> ()\n",
    "\n"
   ]
  },
  {
   "cell_type": "code",
   "execution_count": 35,
   "id": "dbe946cc",
   "metadata": {},
   "outputs": [
    {
     "data": {
      "text/plain": [
       "True"
      ]
     },
     "execution_count": 35,
     "metadata": {},
     "output_type": "execute_result"
    }
   ],
   "source": [
    " (False,False) and True"
   ]
  },
  {
   "cell_type": "code",
   "execution_count": null,
   "id": "2e80af18",
   "metadata": {},
   "outputs": [],
   "source": [
    "#Precedência dos operadores lógicos\n",
    "not\n",
    "and\n",
    "or"
   ]
  },
  {
   "cell_type": "code",
   "execution_count": 36,
   "id": "5f595c71",
   "metadata": {},
   "outputs": [
    {
     "data": {
      "text/plain": [
       "False"
      ]
     },
     "execution_count": 36,
     "metadata": {},
     "output_type": "execute_result"
    }
   ],
   "source": [
    "(not True) or (False and True) or False "
   ]
  },
  {
   "cell_type": "code",
   "execution_count": 42,
   "id": "f5f7dfa8",
   "metadata": {},
   "outputs": [
    {
     "name": "stdout",
     "output_type": "stream",
     "text": [
      "Digite a sua idade: 12\n",
      "12 anos\n"
     ]
    }
   ],
   "source": [
    "# if --> se\n",
    "\n",
    "idade = input('Digite a sua idade: ')\n",
    "\n",
    "if idade: \n",
    "    print(idade,'anos')\n"
   ]
  },
  {
   "cell_type": "code",
   "execution_count": 45,
   "id": "7fd104ae",
   "metadata": {},
   "outputs": [
    {
     "name": "stdout",
     "output_type": "stream",
     "text": [
      "Digite a sua idade: 12\n",
      "12 anos.\n"
     ]
    }
   ],
   "source": [
    "idade = int(input('Digite a sua idade: '))\n",
    "\n",
    "if idade > 10:\n",
    "    print(idade, 'anos.')"
   ]
  },
  {
   "cell_type": "code",
   "execution_count": 50,
   "id": "8c20329b",
   "metadata": {},
   "outputs": [
    {
     "name": "stdout",
     "output_type": "stream",
     "text": [
      "Digite a sua idade: 14\n",
      "14 anos.\n"
     ]
    }
   ],
   "source": [
    "idade = input('Digite a sua idade: ')\n",
    "\n",
    "if int(idade) > 10:\n",
    "    print(idade, 'anos.')"
   ]
  },
  {
   "cell_type": "code",
   "execution_count": 58,
   "id": "c86a2d4b",
   "metadata": {},
   "outputs": [
    {
     "name": "stdout",
     "output_type": "stream",
     "text": [
      "Digite seu nome: Mayara\n",
      "Digite sua idade: 21\n",
      "Mayara é maior de idade.\n"
     ]
    }
   ],
   "source": [
    "#else --> senão\n",
    "\n",
    "nome = input('Digite seu nome: ')\n",
    "\n",
    "idade = int(input('Digite sua idade: '))\n",
    "\n",
    "if idade >= 18:\n",
    "    print(f'{nome} é maior de idade.')\n",
    "else:\n",
    "    print(f'{nome} é menor de idade.')\n",
    "    "
   ]
  },
  {
   "cell_type": "code",
   "execution_count": null,
   "id": "eae6dd26",
   "metadata": {},
   "outputs": [],
   "source": []
  },
  {
   "cell_type": "code",
   "execution_count": 65,
   "id": "4bf85a6d",
   "metadata": {},
   "outputs": [
    {
     "name": "stdout",
     "output_type": "stream",
     "text": [
      "Digite a sua idade: 19\n",
      "Maior de idade no Brasil\n"
     ]
    }
   ],
   "source": [
    "#Faça um programa que pede a idade do usuário e diz se o usuário \n",
    "#é maior de idade no Brasil (>=18), nos EUA (>=21) ou em nenhum \n",
    "#dos dois.\n",
    "\n",
    "maiorBR = 18\n",
    "maiorEUA = 21\n",
    "\n",
    "idade = int(input('Digite a sua idade: '))\n",
    "\n",
    "if idade >= maiorBR and idade >= maiorEUA:\n",
    "    print('Maior de idade em ambos os países.')\n",
    "else:\n",
    "    if idade >= maiorBR:\n",
    "        print('Maior de idade no Brasil')\n",
    "    else:\n",
    "        print('Menor de idade.')\n"
   ]
  },
  {
   "cell_type": "code",
   "execution_count": 64,
   "id": "06760256",
   "metadata": {},
   "outputs": [
    {
     "name": "stdout",
     "output_type": "stream",
     "text": [
      "Digite a sua idade: 19\n",
      "Maior de idade no Brasil\n"
     ]
    }
   ],
   "source": [
    "#Faça um programa que pede a idade do usuário e diz se o usuário \n",
    "#é maior de idade no Brasil (>=18), nos EUA (>=21) ou em nenhum \n",
    "#dos dois.\n",
    "\n",
    "maiorBR = 18\n",
    "maiorEUA = 21\n",
    "\n",
    "idade = int(input('Digite a sua idade: '))\n",
    "\n",
    "if idade >= maiorBR and idade >= maiorEUA:\n",
    "    print('Maior de idade em ambos os países.')\n",
    "elif idade >= maiorBR:\n",
    "    print('Maior de idade no Brasil')\n",
    "else:\n",
    "    print('Menor de idade.')"
   ]
  },
  {
   "cell_type": "code",
   "execution_count": 70,
   "id": "c9bfcd03",
   "metadata": {},
   "outputs": [
    {
     "name": "stdout",
     "output_type": "stream",
     "text": [
      "Digite a sua idade: -30\n",
      "Idade inválida (negativa!).\n"
     ]
    }
   ],
   "source": [
    "#Faça um programa que pede a idade do usuário e diz se o usuário \n",
    "#é maior de idade no Brasil (>=18), nos EUA (>=21) ou em nenhum \n",
    "#dos dois.\n",
    "\n",
    "maiorBR = 18\n",
    "maiorEUA = 21\n",
    "\n",
    "idade = int(input('Digite a sua idade: '))\n",
    "\n",
    "if idade >= maiorEUA:\n",
    "    print('Maior de idade em ambos os países.')\n",
    "elif idade >= maiorBR:\n",
    "    print('Maior de idade no Brasil')\n",
    "elif idade >= 0:\n",
    "    print('Menor de idade.')\n",
    "else:\n",
    "    print('Idade inválida (negativa!).')"
   ]
  },
  {
   "cell_type": "code",
   "execution_count": 79,
   "id": "b20ad942",
   "metadata": {},
   "outputs": [
    {
     "name": "stdout",
     "output_type": "stream",
     "text": [
      "Digite a sua idade: 12,34\n"
     ]
    },
    {
     "ename": "ValueError",
     "evalue": "could not convert string to float: '12,34'",
     "output_type": "error",
     "traceback": [
      "\u001b[1;31m---------------------------------------------------------------------------\u001b[0m",
      "\u001b[1;31mValueError\u001b[0m                                Traceback (most recent call last)",
      "Cell \u001b[1;32mIn[79], line 8\u001b[0m\n\u001b[0;32m      5\u001b[0m maiorBR \u001b[38;5;241m=\u001b[39m \u001b[38;5;241m18\u001b[39m\n\u001b[0;32m      6\u001b[0m maiorEUA \u001b[38;5;241m=\u001b[39m \u001b[38;5;241m21\u001b[39m\n\u001b[1;32m----> 8\u001b[0m idade \u001b[38;5;241m=\u001b[39m \u001b[38;5;28;43mfloat\u001b[39;49m\u001b[43m(\u001b[49m\u001b[38;5;28;43minput\u001b[39;49m\u001b[43m(\u001b[49m\u001b[38;5;124;43m'\u001b[39;49m\u001b[38;5;124;43mDigite a sua idade: \u001b[39;49m\u001b[38;5;124;43m'\u001b[39;49m\u001b[43m)\u001b[49m\u001b[43m)\u001b[49m\n\u001b[0;32m     10\u001b[0m \u001b[38;5;28;01mif\u001b[39;00m idade \u001b[38;5;241m>\u001b[39m \u001b[38;5;241m120\u001b[39m \u001b[38;5;129;01mor\u001b[39;00m idade \u001b[38;5;241m<\u001b[39m \u001b[38;5;241m0\u001b[39m:\n\u001b[0;32m     11\u001b[0m     \u001b[38;5;28mprint\u001b[39m(\u001b[38;5;124m'\u001b[39m\u001b[38;5;124mIdade inválida.\u001b[39m\u001b[38;5;124m'\u001b[39m)\n",
      "\u001b[1;31mValueError\u001b[0m: could not convert string to float: '12,34'"
     ]
    }
   ],
   "source": [
    "#Faça um programa que pede a idade do usuário e diz se o usuário \n",
    "#é maior de idade no Brasil (>=18), nos EUA (>=21) ou em nenhum \n",
    "#dos dois. Idade maior que 120 anos é uma idade inválida\n",
    "\n",
    "maiorBR = 18\n",
    "maiorEUA = 21\n",
    "\n",
    "idade = float(input('Digite a sua idade: '))\n",
    "\n",
    "if idade > 120 or idade < 0:\n",
    "    print('Idade inválida.')\n",
    "elif idade >= maiorEUA:\n",
    "    print('Maior de idade em ambos os países.')\n",
    "elif idade >= maiorBR:\n",
    "    print('Maior de idade no Brasil')\n",
    "else:\n",
    "    print('Menor de idade.')\n"
   ]
  },
  {
   "cell_type": "code",
   "execution_count": 88,
   "id": "5ee3db1c",
   "metadata": {},
   "outputs": [
    {
     "ename": "ValueError",
     "evalue": "invalid literal for int() with base 10: '17.9'",
     "output_type": "error",
     "traceback": [
      "\u001b[1;31m---------------------------------------------------------------------------\u001b[0m",
      "\u001b[1;31mValueError\u001b[0m                                Traceback (most recent call last)",
      "Cell \u001b[1;32mIn[88], line 2\u001b[0m\n\u001b[0;32m      1\u001b[0m teste \u001b[38;5;241m=\u001b[39m \u001b[38;5;124m'\u001b[39m\u001b[38;5;124m17.9\u001b[39m\u001b[38;5;124m'\u001b[39m\n\u001b[1;32m----> 2\u001b[0m \u001b[38;5;28;43mint\u001b[39;49m\u001b[43m(\u001b[49m\u001b[43mteste\u001b[49m\u001b[43m)\u001b[49m\n",
      "\u001b[1;31mValueError\u001b[0m: invalid literal for int() with base 10: '17.9'"
     ]
    }
   ],
   "source": [
    "teste = '17.9'\n",
    "int(teste)"
   ]
  },
  {
   "cell_type": "code",
   "execution_count": null,
   "id": "0475d792",
   "metadata": {},
   "outputs": [],
   "source": []
  },
  {
   "cell_type": "code",
   "execution_count": 93,
   "id": "14ec8979",
   "metadata": {},
   "outputs": [],
   "source": [
    "#Aspas duplas x aspas simples\n",
    "texto = 'o santos \"caiu\" para a segunda divisão'\n",
    "texto2 = \"o santos 'caiu' para a segunda divisão\""
   ]
  },
  {
   "cell_type": "code",
   "execution_count": 94,
   "id": "1e3c3e72",
   "metadata": {},
   "outputs": [
    {
     "data": {
      "text/plain": [
       "('o santos \"caiu\" para a segunda divisão',\n",
       " \"o santos 'caiu' para a segunda divisão\")"
      ]
     },
     "execution_count": 94,
     "metadata": {},
     "output_type": "execute_result"
    }
   ],
   "source": [
    "texto, texto2"
   ]
  },
  {
   "cell_type": "code",
   "execution_count": 95,
   "id": "0ec28123",
   "metadata": {},
   "outputs": [
    {
     "name": "stdout",
     "output_type": "stream",
     "text": [
      "o santos \"caiu\" para a segunda divisão\n",
      "o santos 'caiu' para a segunda divisão\n"
     ]
    }
   ],
   "source": [
    "print(texto)\n",
    "print(texto2)"
   ]
  },
  {
   "cell_type": "code",
   "execution_count": 98,
   "id": "815cca20",
   "metadata": {},
   "outputs": [
    {
     "data": {
      "text/plain": [
       "'O SANTOS CAIU PARA A SEGUNDA DIVISÃO'"
      ]
     },
     "execution_count": 98,
     "metadata": {},
     "output_type": "execute_result"
    }
   ],
   "source": [
    "#Método de string: string.nome_do_método()\n",
    "texto = 'o santos caiu para a segunda divisão'\n",
    "\n",
    "texto.upper() # upper() --> caixa alta (maiúsculo)\n",
    "\n"
   ]
  },
  {
   "cell_type": "code",
   "execution_count": 99,
   "id": "3fcb1eb5",
   "metadata": {},
   "outputs": [
    {
     "data": {
      "text/plain": [
       "'o santos caiu para a segunda divisão'"
      ]
     },
     "execution_count": 99,
     "metadata": {},
     "output_type": "execute_result"
    }
   ],
   "source": [
    "texto.lower() #lower() --> caixa baixa (minúsculo)"
   ]
  },
  {
   "cell_type": "code",
   "execution_count": 100,
   "id": "9413c8ff",
   "metadata": {},
   "outputs": [
    {
     "data": {
      "text/plain": [
       "'O santos caiu para a segunda divisão'"
      ]
     },
     "execution_count": 100,
     "metadata": {},
     "output_type": "execute_result"
    }
   ],
   "source": [
    "texto.capitalize() #capitalize() --> primeira letra maiúscula"
   ]
  },
  {
   "cell_type": "code",
   "execution_count": 102,
   "id": "1894275b",
   "metadata": {},
   "outputs": [
    {
     "data": {
      "text/plain": [
       "'O Santos Caiu Para A Segunda Divisão'"
      ]
     },
     "execution_count": 102,
     "metadata": {},
     "output_type": "execute_result"
    }
   ],
   "source": [
    "texto.title() #title() --> todas as primeiras letras em caixa alta"
   ]
  },
  {
   "cell_type": "code",
   "execution_count": 105,
   "id": "870febc4",
   "metadata": {},
   "outputs": [
    {
     "data": {
      "text/plain": [
       "'o santos caiu para a segunda divisão'"
      ]
     },
     "execution_count": 105,
     "metadata": {},
     "output_type": "execute_result"
    }
   ],
   "source": [
    "texto"
   ]
  },
  {
   "cell_type": "code",
   "execution_count": 106,
   "id": "2e33cc6b",
   "metadata": {},
   "outputs": [
    {
     "data": {
      "text/plain": [
       "9"
      ]
     },
     "execution_count": 106,
     "metadata": {},
     "output_type": "execute_result"
    }
   ],
   "source": [
    "texto.find('caiu')"
   ]
  },
  {
   "cell_type": "code",
   "execution_count": 110,
   "id": "fdcb9e16",
   "metadata": {},
   "outputs": [
    {
     "data": {
      "text/plain": [
       "'o santos caiu para a segunda divisão'"
      ]
     },
     "execution_count": 110,
     "metadata": {},
     "output_type": "execute_result"
    }
   ],
   "source": [
    "texto"
   ]
  },
  {
   "cell_type": "code",
   "execution_count": 114,
   "id": "ae110f6b",
   "metadata": {},
   "outputs": [
    {
     "data": {
      "text/plain": [
       "21"
      ]
     },
     "execution_count": 114,
     "metadata": {},
     "output_type": "execute_result"
    }
   ],
   "source": [
    "texto.find('segunda')"
   ]
  },
  {
   "cell_type": "code",
   "execution_count": 119,
   "id": "9bf2a707",
   "metadata": {},
   "outputs": [
    {
     "data": {
      "text/plain": [
       "(False, True)"
      ]
     },
     "execution_count": 119,
     "metadata": {},
     "output_type": "execute_result"
    }
   ],
   "source": [
    "'23.4'.isnumeric(), '23'.isnumeric()"
   ]
  },
  {
   "cell_type": "code",
   "execution_count": null,
   "id": "a1d08856",
   "metadata": {},
   "outputs": [],
   "source": []
  },
  {
   "cell_type": "code",
   "execution_count": null,
   "id": "98759576",
   "metadata": {},
   "outputs": [],
   "source": [
    "if A and B: VV\n",
    "    pass\n",
    "elif A: VF\n",
    "    pass\n",
    "else:F?\n",
    "    pass"
   ]
  },
  {
   "cell_type": "code",
   "execution_count": 140,
   "id": "630cc458",
   "metadata": {},
   "outputs": [
    {
     "ename": "IndentationError",
     "evalue": "expected an indented block (966903741.py, line 6)",
     "output_type": "error",
     "traceback": [
      "\u001b[1;36m  Cell \u001b[1;32mIn[140], line 6\u001b[1;36m\u001b[0m\n\u001b[1;33m    else:\u001b[0m\n\u001b[1;37m         ^\u001b[0m\n\u001b[1;31mIndentationError\u001b[0m\u001b[1;31m:\u001b[0m expected an indented block\n"
     ]
    }
   ],
   "source": [
    "if A:\n",
    "    if B:\n",
    "        pass\n",
    "    else:\n",
    "        pass\n",
    "else:\n",
    "    if B:\n",
    "        pass\n",
    "    else:\n",
    "        pass"
   ]
  },
  {
   "cell_type": "markdown",
   "id": "a950723a",
   "metadata": {},
   "source": [
    "###### Exercícios"
   ]
  },
  {
   "cell_type": "markdown",
   "id": "5a94051f",
   "metadata": {},
   "source": [
    "Escreva um programa que leia um número inteiro qualquer e apresente o número informado,  \n",
    "seguido do seu antecessor e do seu sucessor."
   ]
  },
  {
   "cell_type": "code",
   "execution_count": 11,
   "id": "c9ab4fb4",
   "metadata": {
    "tags": []
   },
   "outputs": [
    {
     "name": "stdin",
     "output_type": "stream",
     "text": [
      "digite um numero:  5\n"
     ]
    },
    {
     "name": "stdout",
     "output_type": "stream",
     "text": [
      "numero digitado: 5, antecessor: 4, sucessor: 6\n"
     ]
    }
   ],
   "source": [
    "num_int = int(input('digite um numero: '))\n",
    "\n",
    "ant = num_int -1\n",
    "suc = num_int +1\n",
    "\n",
    "print(f'numero digitado: {num_int}, antecessor: {ant}, sucessor: {suc}')"
   ]
  },
  {
   "cell_type": "markdown",
   "id": "75d8980e",
   "metadata": {},
   "source": [
    "Faça um programa que converta metros para centímetros."
   ]
  },
  {
   "cell_type": "code",
   "execution_count": 10,
   "id": "c8f8e4ce",
   "metadata": {
    "tags": []
   },
   "outputs": [
    {
     "name": "stdin",
     "output_type": "stream",
     "text": [
      "digite um valor em centimetros:  5.55\n"
     ]
    },
    {
     "name": "stdout",
     "output_type": "stream",
     "text": [
      "O valor digitado possui 0.0555 metros.\n"
     ]
    }
   ],
   "source": [
    "centimetro = float(input('digite um valor em centimetros: '))\n",
    "\n",
    "metros = centimetro / 100\n",
    "\n",
    "print(f'O valor digitado possui {metros} metros.')"
   ]
  },
  {
   "cell_type": "markdown",
   "id": "09085e82",
   "metadata": {},
   "source": [
    "\n",
    "Faça um programa que peça o raio de um círculo, calcula e mostra sua área e seu perímetro."
   ]
  },
  {
   "cell_type": "code",
   "execution_count": 1,
   "id": "c964e8e4",
   "metadata": {
    "tags": []
   },
   "outputs": [
    {
     "name": "stdin",
     "output_type": "stream",
     "text": [
      "Digite o raio de um circulo:  5\n"
     ]
    },
    {
     "name": "stdout",
     "output_type": "stream",
     "text": [
      "Raio = 5.0, área = 78.53975, perimetro = 31.4159.\n"
     ]
    }
   ],
   "source": [
    "raio = float(input('Digite o raio de um circulo: '))\n",
    "pi = 3.14159\n",
    "area = pi*raio**2\n",
    "perimetro = 2*pi*raio\n",
    "\n",
    "print(f'Raio = {raio}, área = {area}, perimetro = {perimetro}.')"
   ]
  },
  {
   "cell_type": "markdown",
   "id": "9259cb91",
   "metadata": {},
   "source": [
    "Faça um programa que lê três números inteiros e mostra o maior deles."
   ]
  },
  {
   "cell_type": "code",
   "execution_count": 6,
   "id": "aea124d7",
   "metadata": {
    "tags": []
   },
   "outputs": [
    {
     "name": "stdin",
     "output_type": "stream",
     "text": [
      "Digite um numero:  2\n",
      "Digite um numero:  3\n",
      "Digite um numero:  1\n"
     ]
    },
    {
     "name": "stdout",
     "output_type": "stream",
     "text": [
      "O maior deles é o numero 3.0\n"
     ]
    }
   ],
   "source": [
    "num1 = float(input('Digite um numero: '))\n",
    "num2 = float(input('Digite um numero: '))\n",
    "num3 = float(input('Digite um numero: '))\n",
    "\n",
    "maior = 0\n",
    "\n",
    "if num1> num2 and num1>num3:\n",
    "    maior = num1\n",
    "elif num2>num1 and num2>num3:\n",
    "    maior = num2\n",
    "else:\n",
    "    maior = num3\n",
    "print(f'O maior deles é o numero {maior}')\n"
   ]
  },
  {
   "cell_type": "markdown",
   "id": "ef47e837",
   "metadata": {},
   "source": [
    "Faça um programa que lê três números inteiros e os mostra em ordem crescente."
   ]
  },
  {
   "cell_type": "code",
   "execution_count": 7,
   "id": "98a38837",
   "metadata": {
    "tags": []
   },
   "outputs": [
    {
     "name": "stdin",
     "output_type": "stream",
     "text": [
      "Digite um numero:  3\n",
      "Digite um numero:  1\n",
      "Digite um numero:  2\n"
     ]
    },
    {
     "name": "stdout",
     "output_type": "stream",
     "text": [
      "ordem crescente: 1.0, 2.0, 3.0\n"
     ]
    }
   ],
   "source": [
    "num1 = float(input('Digite um numero: '))\n",
    "num2 = float(input('Digite um numero: '))\n",
    "num3 = float(input('Digite um numero: '))\n",
    "\n",
    "if num1 > num2 and num1 > num3:\n",
    "    if num2> num3:\n",
    "        print(f'ordem crescente: {num3}, {num2}, {num1}')\n",
    "    else:\n",
    "        print(f'ordem crescente: {num2}, {num3}, {num1}')\n",
    "elif num2> num1 and num2>num3:\n",
    "    if num1>num3:\n",
    "        print(f'ordem crescente: {num3}, {num1}, {num2}')\n",
    "    else:\n",
    "        print(f'ordem crescente: {num1}, {num3}, {num2}')\n",
    "elif num3> num1 and num3>num2:\n",
    "    if num1>num2:\n",
    "        print(f'ordem crescente: {num2}, {num1}, {num3}')\n",
    "    else:\n",
    "        print(f'ordem crescente: {num1}, {num2}, {num3}')\n",
    "\n"
   ]
  },
  {
   "cell_type": "markdown",
   "id": "161b19a9",
   "metadata": {},
   "source": [
    "Faça um programa que lê um número natural menor do que 1000 e mostra a soma de seus dígitos."
   ]
  },
  {
   "cell_type": "code",
   "execution_count": null,
   "id": "a2996906-8e6a-404e-9f6e-4bdcdcdaab15",
   "metadata": {
    "tags": []
   },
   "outputs": [],
   "source": [
    "num_int = int(input('digite um numero menor que 1000: '))\n",
    "\n",
    "if num_int > 1000:\n",
    "    print('o numero é maior que 1000')\n",
    "elif num_int <10:\n",
    "    soma = num_int\n",
    "elif num_int < 100:\n",
    "    soma = (num_int // 10) + (num_int % 10)\n",
    "    print(f'a soma dos digitos do numero digitado é : {soma}')\n",
    "else:\n",
    "    soma = (num_int // 100) + ((num_int%100) // 10) + num_int % 10\n",
    "    \n",
    "print(f'a soma dos digitos do numero digitado é : {soma}')"
   ]
  },
  {
   "cell_type": "markdown",
   "id": "e495663c",
   "metadata": {},
   "source": [
    "Faça um programa que peça uma temperatura, peça uma das três escalas (Celsius, Fahrenheit ou Kelvin) para a temperatura digitada, peça para qual temperatura quer transformar (Celsius, Fahrenheit ou Kelvin) e mostra essa temperatura transformada."
   ]
  },
  {
   "cell_type": "code",
   "execution_count": null,
   "id": "f2e804cb",
   "metadata": {
    "tags": []
   },
   "outputs": [],
   "source": [
    "temp = int(input('Qual a temperatura (apenas numeros): '))\n",
    "escala = input('Qual escala está esta temperatura? A) [C]elsius B) [F]ahrenheit C) [K]elvin (digite apenas as iniciais)')\n",
    "escala.upper()\n",
    "converter = input ('Deseja converter para: A) [C]elsius B) [F]ahrenheit C) [K]elvin (digite apenas as iniciais) : .')\n",
    "converter.upper()\n",
    "\n",
    "if converter == 'C':\n",
    "    if escala == 'C':\n",
    "        print(f'A temperatura é {temp} graus Celcius.')\n",
    "    elif escala == 'F':\n",
    "        temp = (temp -32) / 1.8\n",
    "        print(f'A temperatura é {temp} graus Celcius.')\n",
    "    elif escala == 'K':\n",
    "        temp = temp - 273\n",
    "        print(f'A temperatura é {temp} graus Celcius.')\n",
    "    else:\n",
    "        print('Você escolheu a escala errada, digite apenas as iniciais.')\n",
    "\n",
    "\n",
    "elif converter == 'F':\n",
    "    if escala == 'C':\n",
    "        temp = temp * 1.8 + 32\n",
    "        print(f'A temperatura é {temp} graus Celcius.')\n",
    "    elif escala == 'F':\n",
    "        print(f'A temperatura é {temp} graus Celcius.')\n",
    "    elif escala == 'K':\n",
    "        temp = 1.8 * (temp - 273) + 32\n",
    "        print(f'A temperatura é {temp} graus Celcius.')\n",
    "    else:\n",
    "        print('Você escolheu a escala errada, digite apenas as iniciais.')\n",
    "    \n",
    "elif converter == \"K\":\n",
    "    ...\n",
    "    \n",
    "else:\n",
    "    print('Você escolheu a conversão errada, digite apenas as iniciais.')"
   ]
  },
  {
   "cell_type": "markdown",
   "id": "d8373d9e",
   "metadata": {},
   "source": [
    "Desenvolva um programa que leia quatro notas e que apresente a média final, a maior nota e a menor nota (não use lista)."
   ]
  },
  {
   "cell_type": "code",
   "execution_count": 11,
   "id": "4a8f672d-3212-4c88-a2e3-96ae399d2c4e",
   "metadata": {
    "tags": []
   },
   "outputs": [
    {
     "name": "stdin",
     "output_type": "stream",
     "text": [
      "Digite a primeira nota:  8\n",
      "Digite a segunda nota:  7\n",
      "Digite a terceira nota:  4\n",
      "Digite a quarta nota:  3\n"
     ]
    },
    {
     "name": "stdout",
     "output_type": "stream",
     "text": [
      "média: 5.5, menor nota: 3, maior nota: 8\n"
     ]
    }
   ],
   "source": [
    "nota1 = int(input('Digite a primeira nota: '))\n",
    "nota2 = int(input('Digite a segunda nota: '))\n",
    "nota3 = int(input('Digite a terceira nota: '))\n",
    "nota4 = int(input('Digite a quarta nota: '))\n",
    "\n",
    "media = (nota1 + nota2 + nota3 + nota4) / 4\n",
    "\n",
    "maior = nota1\n",
    "if nota2 > maior:\n",
    "    maior = nota2\n",
    "if nota3 > maior:\n",
    "    maior = nota3\n",
    "if nota4 > maior:\n",
    "    maior = nota4\n",
    "    \n",
    "menor = nota1\n",
    "if nota2 < menor:\n",
    "    menor = nota2\n",
    "if nota3 < menor:\n",
    "    menor = nota3    \n",
    "if nota4 < menor:\n",
    "    menor = nota4\n",
    "    \n",
    "print(f'média: {media}, menor nota: {menor}, maior nota: {maior}')"
   ]
  },
  {
   "cell_type": "markdown",
   "id": "c89aeb61",
   "metadata": {},
   "source": [
    "**Documentação do Python:**\n",
    "https://docs.python.org/3/"
   ]
  },
  {
   "cell_type": "markdown",
   "id": "6a24fe4b",
   "metadata": {},
   "source": [
    "**Sugestão de listas de exercícios:**\n",
    "* https://wiki.python.org.br/ListaDeExercicios\n",
    "* https://www.w3resource.com/python-exercises/python-basic-exercises.php\n",
    "* https://www.hackerrank.com/\n",
    "* https://www.beecrowd.com.br/judge/pt/login"
   ]
  },
  {
   "cell_type": "code",
   "execution_count": null,
   "id": "c4f8110a",
   "metadata": {},
   "outputs": [],
   "source": []
  },
  {
   "cell_type": "code",
   "execution_count": null,
   "id": "5cad0902",
   "metadata": {},
   "outputs": [],
   "source": []
  },
  {
   "cell_type": "code",
   "execution_count": null,
   "id": "06f07fea",
   "metadata": {},
   "outputs": [],
   "source": []
  }
 ],
 "metadata": {
  "kernelspec": {
   "display_name": "Python 3 (ipykernel)",
   "language": "python",
   "name": "python3"
  },
  "language_info": {
   "codemirror_mode": {
    "name": "ipython",
    "version": 3
   },
   "file_extension": ".py",
   "mimetype": "text/x-python",
   "name": "python",
   "nbconvert_exporter": "python",
   "pygments_lexer": "ipython3",
   "version": "3.11.5"
  }
 },
 "nbformat": 4,
 "nbformat_minor": 5
}
