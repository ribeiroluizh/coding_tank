{
 "cells": [
  {
   "cell_type": "code",
   "execution_count": 1,
   "id": "b0b14b03-f0c8-4186-aaaa-abdac8ef30e1",
   "metadata": {
    "tags": []
   },
   "outputs": [
    {
     "data": {
      "text/plain": [
       "[0, 1, 2, 3, 4, 5, 6, 7, 8, 9]"
      ]
     },
     "execution_count": 1,
     "metadata": {},
     "output_type": "execute_result"
    }
   ],
   "source": [
    "# for elemento in alguma coisa (precisa ser iterável):\n",
    "# bloco\n",
    "\n",
    "#ser iteravel, significa varrer elemento por elemento.\n",
    "\n",
    "''' veremos 2 tipos de for, é exatamente a mesma estrutura,\n",
    "um deles é o for each. neste caso ele pega um elemento de um \n",
    "iterável.'''\n",
    "\n",
    "list(range(10)) # gera um iterável, uma sequencia de valores.\n"
   ]
  },
  {
   "cell_type": "code",
   "execution_count": 3,
   "id": "ed64d3c6-25b9-4499-9f9a-204a801c53aa",
   "metadata": {
    "tags": []
   },
   "outputs": [
    {
     "name": "stdout",
     "output_type": "stream",
     "text": [
      "0\n",
      "1\n",
      "2\n",
      "3\n"
     ]
    }
   ],
   "source": [
    "for i in range(4):\n",
    "    print(i)"
   ]
  },
  {
   "cell_type": "code",
   "execution_count": 14,
   "id": "719092ec-5eab-4699-9b44-678b08965026",
   "metadata": {
    "tags": []
   },
   "outputs": [
    {
     "name": "stdout",
     "output_type": "stream",
     "text": [
      "bruna\n",
      "laura\n",
      "luiz\n"
     ]
    }
   ],
   "source": [
    "lista = {'luiz','bruna','laura'}\n",
    "for qualquer_variavel in lista:\n",
    "    print(qualquer_variavel)"
   ]
  },
  {
   "cell_type": "code",
   "execution_count": null,
   "id": "194bade9-f109-4e98-8779-c9bff31f0404",
   "metadata": {},
   "outputs": [],
   "source": [
    "# Só a condição de parada -- lembrando que ele para num item anteior--\n",
    "\n",
    "list(range(7))"
   ]
  },
  {
   "cell_type": "code",
   "execution_count": 15,
   "id": "cc5aeab4-9d8f-493d-a7a2-cfec6aecf201",
   "metadata": {
    "tags": []
   },
   "outputs": [
    {
     "data": {
      "text/plain": [
       "[-3, -2, -1, 0, 1, 2, 3, 4, 5, 6]"
      ]
     },
     "execution_count": 15,
     "metadata": {},
     "output_type": "execute_result"
    }
   ],
   "source": [
    "# Valor inicial (start) e condição de parada (stop)\n",
    "list(range(-3,7))"
   ]
  },
  {
   "cell_type": "code",
   "execution_count": 16,
   "id": "78b543b6-dc67-4848-823b-c895ad2fdc9d",
   "metadata": {
    "tags": []
   },
   "outputs": [
    {
     "data": {
      "text/plain": [
       "[-3, -1, 1, 3, 5]"
      ]
     },
     "execution_count": 16,
     "metadata": {},
     "output_type": "execute_result"
    }
   ],
   "source": [
    "#Valor inicial (start) no caso -3, valor final(stop) no caso 7, passo(step) no caso 2\n",
    "list(range(-3, 7, 2))\n",
    "\n",
    "#list(range(start, stop, step))\n",
    "range()"
   ]
  },
  {
   "cell_type": "code",
   "execution_count": 20,
   "id": "3a3f6d02-2ac1-4ca9-be72-9c8ff781e807",
   "metadata": {
    "tags": []
   },
   "outputs": [
    {
     "data": {
      "text/plain": [
       "'CaaãJn'"
      ]
     },
     "execution_count": 20,
     "metadata": {},
     "output_type": "execute_result"
    }
   ],
   "source": [
    "'Casa da mãe Joana.'[::3] #pula a cada 3 passos no caso"
   ]
  },
  {
   "cell_type": "code",
   "execution_count": 24,
   "id": "37a61383-54eb-4d72-8156-b881056e18a4",
   "metadata": {
    "tags": []
   },
   "outputs": [
    {
     "data": {
      "text/plain": [
       "[7, 5]"
      ]
     },
     "execution_count": 24,
     "metadata": {},
     "output_type": "execute_result"
    }
   ],
   "source": [
    "#passos negativos\n",
    "list(range(7, 3, -2))"
   ]
  },
  {
   "cell_type": "code",
   "execution_count": null,
   "id": "efa37d4f-3cfb-4204-ac21-93254be386c4",
   "metadata": {},
   "outputs": [],
   "source": [
    "# Intervalos vaioz\n",
    "list(range(12,0))"
   ]
  },
  {
   "cell_type": "code",
   "execution_count": 25,
   "id": "0981fabd-8353-485f-84cc-0ea5b3ba4b70",
   "metadata": {
    "tags": []
   },
   "outputs": [
    {
     "name": "stdout",
     "output_type": "stream",
     "text": [
      "\n",
      "X\n",
      "XX\n",
      "XXX\n",
      "XXXX\n"
     ]
    }
   ],
   "source": [
    "for var in range(5):\n",
    "    print('X' * var)"
   ]
  },
  {
   "cell_type": "code",
   "execution_count": 37,
   "id": "26293892-ccfe-4632-99b5-c75c12be48ab",
   "metadata": {
    "tags": []
   },
   "outputs": [
    {
     "name": "stdin",
     "output_type": "stream",
     "text": [
      "Digite um numero inteiro:  9\n"
     ]
    },
    {
     "name": "stdout",
     "output_type": "stream",
     "text": [
      "9 x   1 =  9\n",
      "9 x   2 = 18\n",
      "9 x   3 = 27\n",
      "9 x   4 = 36\n",
      "9 x   5 = 45\n",
      "9 x   6 = 54\n",
      "9 x   7 = 63\n",
      "9 x   8 = 72\n",
      "9 x   9 = 81\n",
      "9 x  10 = 90\n"
     ]
    }
   ],
   "source": [
    "# Faça um programa que peça um numero o usuario e mostra\n",
    "# a tabuada desse numero:\n",
    "\n",
    "tab = int(input('Digite um numero inteiro: '))\n",
    "\n",
    "for i in range(1,11):\n",
    "    print(f'{tab} x {i:3d} = {tab*i:2d}')"
   ]
  },
  {
   "cell_type": "code",
   "execution_count": 42,
   "id": "5ff6503c-5b7c-494e-8135-ae2fd95302b9",
   "metadata": {
    "tags": []
   },
   "outputs": [
    {
     "name": "stdin",
     "output_type": "stream",
     "text": [
      "Digite o numero de notas:  3\n",
      "Digite a 1a nota:  5\n",
      "Digite a 2a nota:  6\n",
      "Digite a 3a nota:  7\n"
     ]
    },
    {
     "name": "stdout",
     "output_type": "stream",
     "text": [
      "A média é  6.00\n"
     ]
    }
   ],
   "source": [
    "''' Faça um programa que pede um numero n e n notas e faz a\n",
    "média dessas n notas'''\n",
    "\n",
    "n = int(input('Digite o numero de notas: '))\n",
    "\n",
    "soma = 0\n",
    "\n",
    "for i in range(n):\n",
    "    soma += float(input(f'Digite a {i+1}a nota: '))\n",
    "    \n",
    "print(f'A média é {soma/n: .2f}')\n",
    "    "
   ]
  },
  {
   "cell_type": "code",
   "execution_count": 44,
   "id": "81536025-e7b7-4925-816a-941adab0b4ef",
   "metadata": {
    "tags": []
   },
   "outputs": [
    {
     "data": {
      "text/plain": [
       "(6.0, 6.0)"
      ]
     },
     "execution_count": 44,
     "metadata": {},
     "output_type": "execute_result"
    }
   ],
   "source": [
    "# arredondamento: round(numero, casas decimais)\n",
    "media = soma/n\n",
    "media2 = round(media,2)\n",
    "media2, media"
   ]
  },
  {
   "cell_type": "code",
   "execution_count": 52,
   "id": "4c5613d3-4051-45b9-90ad-aef049874b52",
   "metadata": {
    "tags": []
   },
   "outputs": [
    {
     "data": {
      "text/plain": [
       "'tatuagem'"
      ]
     },
     "execution_count": 52,
     "metadata": {},
     "output_type": "execute_result"
    }
   ],
   "source": [
    "# Listas\n",
    "\n",
    "lista = ['20', 'tatuagem']\n",
    "\n"
   ]
  },
  {
   "cell_type": "code",
   "execution_count": 56,
   "id": "040d37a9-84ce-4fb8-bbf1-558219ed32bb",
   "metadata": {
    "tags": []
   },
   "outputs": [
    {
     "data": {
      "text/plain": [
       "[7.3, 8, ['outra lista'], True]"
      ]
     },
     "execution_count": 56,
     "metadata": {},
     "output_type": "execute_result"
    }
   ],
   "source": [
    "#inserir elementos na lista: append()\n",
    "notas = []\n",
    "notas.append(7.3)\n",
    "notas.append(8)\n",
    "notas.append(['outra lista'])\n",
    "notas.append(True)\n",
    "\n",
    "# consigo colocar elementos de quaisquer tipos\n",
    "\n",
    "notas"
   ]
  },
  {
   "cell_type": "code",
   "execution_count": 58,
   "id": "cd91a07d-16d2-4709-8eeb-d23f3fb7dd72",
   "metadata": {
    "tags": []
   },
   "outputs": [
    {
     "data": {
      "text/plain": [
       "5"
      ]
     },
     "execution_count": 58,
     "metadata": {},
     "output_type": "execute_result"
    }
   ],
   "source": [
    "# Descobrindo o tamanho da lista: len()\n",
    "\n",
    "len(notas)"
   ]
  },
  {
   "cell_type": "code",
   "execution_count": null,
   "id": "8b570f6b-cc9c-4970-9396-f43cd63006a4",
   "metadata": {},
   "outputs": [],
   "source": [
    "# Somando elementos da lista"
   ]
  },
  {
   "cell_type": "code",
   "execution_count": 62,
   "id": "8ce7b976-bc00-4dbe-89cd-c3e3f9c10db6",
   "metadata": {
    "tags": []
   },
   "outputs": [
    {
     "name": "stdout",
     "output_type": "stream",
     "text": [
      "15.0\n"
     ]
    }
   ],
   "source": [
    "# Primeira forma: indice\n",
    "soma = 0\n",
    "for i in range(len(notas)):\n",
    "    soma += notas[i]\n",
    "print(soma)"
   ]
  },
  {
   "cell_type": "code",
   "execution_count": 65,
   "id": "626d276b-ae7e-4cb5-a2fa-01e983ca21c2",
   "metadata": {
    "tags": []
   },
   "outputs": [
    {
     "name": "stdout",
     "output_type": "stream",
     "text": [
      "5.0\n"
     ]
    }
   ],
   "source": [
    "# Segunda forma: for each\n",
    "soma = 0\n",
    "for nota in notas:\n",
    "    soma += nota\n",
    "print(soma)"
   ]
  },
  {
   "cell_type": "code",
   "execution_count": 66,
   "id": "fc1f2f61-77a5-4a5b-aad8-4d2122791263",
   "metadata": {
    "tags": []
   },
   "outputs": [
    {
     "data": {
      "text/plain": [
       "15.0"
      ]
     },
     "execution_count": 66,
     "metadata": {},
     "output_type": "execute_result"
    }
   ],
   "source": [
    "# Terceira forma: utilizando a função sum() -- neste caso para\n",
    "# somar as notas que foram armazenadas na lista\n",
    "sum(notas)"
   ]
  },
  {
   "cell_type": "code",
   "execution_count": 68,
   "id": "10bd1bdb-5246-43ee-ad5b-e36445d73903",
   "metadata": {
    "tags": []
   },
   "outputs": [
    {
     "name": "stdin",
     "output_type": "stream",
     "text": [
      "Digite o numero de notas:  5\n",
      "Digite a 1ª nota:  46\n",
      "Digite a 2ª nota:  65\n",
      "Digite a 3ª nota:  25\n",
      "Digite a 4ª nota:  35\n",
      "Digite a 5ª nota:  48\n"
     ]
    },
    {
     "name": "stdout",
     "output_type": "stream",
     "text": [
      "média = 43.8, variança = 180.56\n"
     ]
    }
   ],
   "source": [
    "# Faça um programa que pede um numero n e n notas e faz a viança dessas notas\n",
    "n = int(input('Digite o numero de notas: '))\n",
    "\n",
    "soma = 0\n",
    "notas = []\n",
    "\n",
    "for i in range(n):\n",
    "    notas.append(float(input(f'Digite a {i+1}ª nota: ')))\n",
    "    \n",
    "media = sum(notas) / n\n",
    "\n",
    "var = 0\n",
    "\n",
    "for nota in notas:\n",
    "    var += (nota - media) **2\n",
    "    \n",
    "var /= n\n",
    "\n",
    "print(f'média = {media}, variança = {var}')"
   ]
  },
  {
   "cell_type": "code",
   "execution_count": null,
   "id": "177969c3-dafa-4753-b503-f78922bfc487",
   "metadata": {},
   "outputs": [],
   "source": [
    "# Métodos de lista\n",
    "'''\n",
    "append: (adiciona um elemento a lista, (no caso lista + lista), \n",
    "adiciona a lista considerando um elemento.\n",
    "extend: junta duas listas, levando a nova lista como cada elemento da\n",
    "lista extendida.'''\n"
   ]
  },
  {
   "cell_type": "code",
   "execution_count": 76,
   "id": "b85d1d32-6970-4d0a-a2cd-49a32394fc55",
   "metadata": {
    "tags": []
   },
   "outputs": [
    {
     "name": "stdout",
     "output_type": "stream",
     "text": [
      "7\n",
      "8\n"
     ]
    },
    {
     "data": {
      "text/plain": [
       "['Mayara',\n",
       " 'Gabriele',\n",
       " 'Karoline',\n",
       " 'Leticia',\n",
       " 'Luciane',\n",
       " 'Mariana',\n",
       " 'Suzielli',\n",
       " [21, 34, 7, 78, 15]]"
      ]
     },
     "execution_count": 76,
     "metadata": {},
     "output_type": "execute_result"
    }
   ],
   "source": [
    "nomes = ['Mayara', 'Gabriele', 'Karoline', 'Leticia', 'Luciane', 'Mariana', 'Suzielli']\n",
    "\n",
    "idade = [21, 34, 7, 78, 15]\n",
    "print(len(nomes))\n",
    "nomes.append(idade)\n",
    "print(len(nomes))\n",
    "nomes"
   ]
  },
  {
   "cell_type": "code",
   "execution_count": 77,
   "id": "35b8c829-15bb-46ee-902f-0b9bd42358be",
   "metadata": {
    "tags": []
   },
   "outputs": [
    {
     "name": "stdout",
     "output_type": "stream",
     "text": [
      "7\n",
      "12\n"
     ]
    },
    {
     "data": {
      "text/plain": [
       "['Mayara',\n",
       " 'Gabriele',\n",
       " 'Karoline',\n",
       " 'Leticia',\n",
       " 'Luciane',\n",
       " 'Mariana',\n",
       " 'Suzielli',\n",
       " 21,\n",
       " 34,\n",
       " 7,\n",
       " 78,\n",
       " 15]"
      ]
     },
     "execution_count": 77,
     "metadata": {},
     "output_type": "execute_result"
    }
   ],
   "source": [
    "nomes = ['Mayara', 'Gabriele', 'Karoline', 'Leticia', 'Luciane', 'Mariana', 'Suzielli']\n",
    "\n",
    "idade = [21, 34, 7, 78, 15]\n",
    "print(len(nomes))\n",
    "nomes.extend(idade)\n",
    "print(len(nomes))\n",
    "nomes"
   ]
  },
  {
   "cell_type": "code",
   "execution_count": 83,
   "id": "ab3e3d10-2879-4704-984b-c839da4e48e5",
   "metadata": {
    "tags": []
   },
   "outputs": [
    {
     "data": {
      "text/plain": [
       "'Gabriele'"
      ]
     },
     "execution_count": 83,
     "metadata": {},
     "output_type": "execute_result"
    }
   ],
   "source": [
    "nomes[1]"
   ]
  },
  {
   "cell_type": "code",
   "execution_count": 89,
   "id": "7847a7b9-6215-4469-ab95-2e98eaffc601",
   "metadata": {
    "tags": []
   },
   "outputs": [
    {
     "data": {
      "text/plain": [
       "['luiz', 'laura', 'bruna']"
      ]
     },
     "execution_count": 89,
     "metadata": {},
     "output_type": "execute_result"
    }
   ],
   "source": [
    "nomes1 = [ 'luiz', 'laura','bruna']\n",
    "nomes2 = ['ines', 'carlinhos']\n",
    "\n",
    "nomes2 = nomes1.copy()\n",
    "\n",
    "nomes2"
   ]
  },
  {
   "cell_type": "markdown",
   "id": "68207114-e13b-42fc-b8fd-e588613b4ee8",
   "metadata": {},
   "source": [
    "##### Quando utiliza metodo copy() ele armazena os dados \n",
    "copiados em outro endereço de memória"
   ]
  },
  {
   "cell_type": "code",
   "execution_count": null,
   "id": "289a0e35-c007-40ab-b6f9-eaeacaa58f6c",
   "metadata": {},
   "outputs": [],
   "source": []
  }
 ],
 "metadata": {
  "kernelspec": {
   "display_name": "Python 3 (ipykernel)",
   "language": "python",
   "name": "python3"
  },
  "language_info": {
   "codemirror_mode": {
    "name": "ipython",
    "version": 3
   },
   "file_extension": ".py",
   "mimetype": "text/x-python",
   "name": "python",
   "nbconvert_exporter": "python",
   "pygments_lexer": "ipython3",
   "version": "3.11.5"
  }
 },
 "nbformat": 4,
 "nbformat_minor": 5
}
